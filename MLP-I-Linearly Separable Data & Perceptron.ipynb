{
 "cells": [
  {
   "cell_type": "markdown",
   "metadata": {},
   "source": [
    "# Multi-Layer Perceptron (MLP): Linearly Separable Data\n",
    "\n",
    "Before we start investigating Multi-Layer Perceptron (MLP), let's pose some questions?\n",
    "\n",
    "- What is a Multi-Layer Perceptron (MLP)?\n",
    "- Is it designed with multiple Perceptrons?\n",
    "- What is a Perceptron?\n",
    "\n",
    "The MLP algorithm is inspired by the information processing mechanism of the human neural network. That's why MLP is also known as Artificial Neural Network (ANN).\n",
    "\n",
    "\n",
    "Historically the first MLP/ANN model was proposed in 1962 by a Cornell psychologist named Frank Rosenblatt. It’s called Perceptron. The best way to understand the MLP/NN algorithm is to first understand how a Perceptron works. \n",
    "\n",
    "The Perceptron was the first pragmatic attempt to mimic human neural network for machine based learning. \n",
    "It was discovered shortly that Perceptron can do only trivial classification (on linearly separable data set). \n",
    "The MLP was invented in the process of circumventing the limitation of the Perceptron.\n",
    "\n",
    "Thus to better understand the MLP, it is useful to first take a look at the Perceptron model. We will see that MLP is not a simple extension of the Perceptron model. The MLP is not designed by stacking multiple Perceptrons. \n",
    "\n",
    "Instead the initial design of the MLP was based on the Logistic Regression model. Therefore, before studying MLP we will perform a comparative analysis of the Perceptron and Logistic Regression models.\n",
    "\n",
    "\n",
    "## Perceptron and Logistic Regression\n",
    "\n",
    "The goal of this notebook is to study the Perceptron algorithm for a classification problem. Note that Perceptron is a **linear model**. Previously we studied the Logistic Regression model, which is also a linear classifier.\n",
    "\n",
    "The main difference between Perceptron and Logistic Regression model is in the form of the activation function.\n",
    "- Perceptron uses a step-function as the activation function.\n",
    "- Logistic Regression model uses sigmoid function as the activation function.\n",
    "\n",
    "The step-function is a **discontinuous** non-linear function, hence **not differentiable**. As a consequence it doesn't work well with the gradient descent algorithm. The perceptron weight update rule uses an approximation of the gradient of the loss function.\n",
    "\n",
    "On the other hand, the sigmoid function is **continuous non-linear**, hence differentiable. Thus, its weight update rule could use the exact value of the gradient of the loss function.\n",
    "\n",
    "\n",
    "Another significant difference between the Perceptron and Logistic Regression model is:\n",
    "\n",
    "- Perceptron is not able to estimate class probabilities. \n",
    "\n",
    "- Logistic Regression classifier outputs class probabilities.\n",
    "\n",
    "In this notebook, we will investigate the performance of both models on a linearly separable dataset. We will see that irrespective of their differences, for linearly seperable dataset both Perceptron and Logistic Regression have similar performance.\n",
    "\n",
    "We will also see that these two models are unable to classify a non-linear data set. This limitation will lead us to study MLP/ANN models for pattern recognition (classification and regression) in non-linear data."
   ]
  },
  {
   "cell_type": "markdown",
   "metadata": {},
   "source": [
    "# Dataset\n",
    "\n",
    "\n",
    "We will use the iris dataset, which is a multivariate data set. \n",
    "\n",
    "This is a famous dataset that contains the sepal and petal length and width of 150 iris flowers of three different species: Iris-Setosa, Iris-Versicolor, and Iris-Virginica\n",
    "\n",
    "There are 4 features: \n",
    "- sepal length (cm)\n",
    "- sepal width (cm)\n",
    "- petal length (cm)\n",
    "- petal width (cm)\n",
    "\n",
    "Total number of samples: 150\n",
    "\n",
    "The dataset is also known as Fisher's Iris data set as it was introduced by the British statistician and biologist Ronald Fisher in his 1936 paper \"The use of multiple measurements in taxonomic problems as an example of linear discriminant analysis\".\n",
    "\n",
    "\n",
    "<img src=\"https://cse.unl.edu/~hasan/IrisFlowers.png\" width=800 height=400>"
   ]
  },
  {
   "cell_type": "code",
   "execution_count": 1,
   "metadata": {},
   "outputs": [],
   "source": [
    "import numpy as np\n",
    "%matplotlib inline\n",
    "import matplotlib.pyplot as plt\n",
    "\n",
    "from sklearn.datasets import load_iris\n",
    "from sklearn.linear_model import LogisticRegression, Perceptron\n",
    "from sklearn.metrics import confusion_matrix, precision_score, recall_score, f1_score, classification_report\n",
    "from sklearn.model_selection import train_test_split"
   ]
  },
  {
   "cell_type": "markdown",
   "metadata": {},
   "source": [
    "## Function for Drawing Decision Boundary\n",
    "\n",
    "To visualize the performce of the classifier we will draw decision boundary.\n",
    "\n",
    "We use two functions for plotting decision boundary:\n",
    "- Equation based\n",
    "- Class probability based\n",
    "\n",
    "Detail discussion on these two functions are given in the \"Logistic Regression - Binary Classification\" notebook."
   ]
  },
  {
   "cell_type": "code",
   "execution_count": 2,
   "metadata": {},
   "outputs": [],
   "source": [
    "def decision_boundary_equation_based(clf, X):\n",
    "    \n",
    "    xmin, xmax = X.min() - 1, X.max() + 1\n",
    "    \n",
    "    w = clf.coef_[0]\n",
    "    b = clf.intercept_[0]\n",
    "\n",
    "    x1 = np.linspace(xmin, xmax, 100)\n",
    "    decision_boundary = -(b + w[0]*x1)/w[1]\n",
    "    plt.plot(x1, decision_boundary, \"k--\", linewidth=3)\n",
    "    \n",
    "    \n",
    "def decision_boundary_class_colored(clf, X, plotDistanceFromHyperplane=False, colorBar=False):\n",
    "    \n",
    "    # Get the min and max value of feature x1\n",
    "    x1min, x1max = X[:,0].min() - 1, X[:, 0].max() + 1\n",
    "    \n",
    "    # Get the min and max value of feature x2\n",
    "    x2min, x2max = X[:,1].min() - 1, X[:, 1].max() + 1\n",
    "    \n",
    "    # Create the mesh grid\n",
    "    x1s = np.linspace(x1min, x1max, 100)\n",
    "    x2s = np.linspace(x2min, x2max, 100)\n",
    "    x1, x2 = np.meshgrid(x1s, x2s)\n",
    "    \n",
    "    \n",
    "    # Create pairs of new points from the grid\n",
    "    X_new = np.c_[x1.ravel(), x2.ravel()]\n",
    "    \n",
    "    \n",
    "    # Compute the class predictions for all new points\n",
    "    y_pred = clf.predict(X_new).reshape(x1.shape)\n",
    "    \n",
    "    \n",
    "    # Generate the contourf plot for the predictions\n",
    "    plt.contourf(x1, x2, y_pred, cmap=plt.cm.bwr, alpha=0.2)\n",
    "    \n",
    "    \n",
    "    if(plotDistanceFromHyperplane == True):\n",
    "    \n",
    "        # Compute the signed distance of a sample to the hyperplane for all new points\n",
    "        y_decision = clf.decision_function(X_new).reshape(x1.shape)\n",
    "\n",
    "        # Generate the contourf plot for the distance of all points from the hyperplane\n",
    "        plt.contourf(x1, x2, y_decision, cmap=plt.cm.bwr, alpha=0.2)\n",
    "    \n",
    "    if(colorBar==True):\n",
    "        plt.colorbar()\n",
    "    "
   ]
  },
  {
   "cell_type": "markdown",
   "metadata": {},
   "source": [
    "## Load The Dataset"
   ]
  },
  {
   "cell_type": "code",
   "execution_count": 3,
   "metadata": {},
   "outputs": [
    {
     "name": "stdout",
     "output_type": "stream",
     "text": [
      "dict_keys(['data', 'target', 'target_names', 'DESCR', 'feature_names', 'filename'])\n",
      "['sepal length (cm)', 'sepal width (cm)', 'petal length (cm)', 'petal width (cm)']\n",
      "['setosa' 'versicolor' 'virginica']\n",
      "(150, 4)\n"
     ]
    }
   ],
   "source": [
    "iris = load_iris()\n",
    "\n",
    "print(iris.keys())\n",
    "print(iris.feature_names)\n",
    "print(iris.target_names)\n",
    "print(iris.data.shape)\n",
    "\n",
    "#print(iris.DESCR)"
   ]
  },
  {
   "cell_type": "markdown",
   "metadata": {},
   "source": [
    "## Create Data Matrix (X) and the Label Vector (y)\n",
    "\n",
    "For the experimentation we used two features. This will help us to show the decision boundary in 2D.\n",
    "\n",
    "We will build a classifier to detect the **Iris-Virginica type**. Thus, we code the target vector (y) accordingly."
   ]
  },
  {
   "cell_type": "code",
   "execution_count": 4,
   "metadata": {},
   "outputs": [],
   "source": [
    "X = iris[\"data\"][:, (2, 3)]  # petal length, petal width\n",
    "\n",
    "y = (iris[\"target\"] == 2).astype(np.int)  # 1 if Iris-Virginica, else 0"
   ]
  },
  {
   "cell_type": "markdown",
   "metadata": {},
   "source": [
    "## Split Data Into Training and Test Sets"
   ]
  },
  {
   "cell_type": "code",
   "execution_count": 5,
   "metadata": {},
   "outputs": [],
   "source": [
    "X_train, X_test, y_train, y_test = train_test_split(X, y, test_size=0.20, random_state=42)"
   ]
  },
  {
   "cell_type": "markdown",
   "metadata": {},
   "source": [
    "## Logistic Regression"
   ]
  },
  {
   "cell_type": "code",
   "execution_count": 6,
   "metadata": {},
   "outputs": [
    {
     "name": "stdout",
     "output_type": "stream",
     "text": [
      "No. of Iterations: [14]\n",
      "\n",
      "Weight Intercept: [-16.18936365]\n",
      "Weight Coefficients: [[2.61476001 2.06836402]]\n",
      "\n",
      "Training Accuracy:  0.9583333333333334\n"
     ]
    }
   ],
   "source": [
    "lg_reg_clf = LogisticRegression(solver='lbfgs')\n",
    "\n",
    "lg_reg_clf.fit(X_train, y_train)\n",
    "\n",
    "print(\"No. of Iterations:\", lg_reg_clf.n_iter_ )\n",
    "print(\"\\nWeight Intercept:\", lg_reg_clf.intercept_ )\n",
    "print(\"Weight Coefficients:\", lg_reg_clf.coef_ )\n",
    "\n",
    "\n",
    "y_train_predicted = lg_reg_clf.predict(X_train)\n",
    "#print(y_test_predict)\n",
    "\n",
    "train_accuracy_logreg = np.mean(y_train_predicted == y_train)\n",
    "print(\"\\nTraining Accuracy: \", train_accuracy_logreg)"
   ]
  },
  {
   "cell_type": "markdown",
   "metadata": {},
   "source": [
    "## Logistic Regression: Evaluation on Test Data"
   ]
  },
  {
   "cell_type": "code",
   "execution_count": 7,
   "metadata": {},
   "outputs": [
    {
     "name": "stdout",
     "output_type": "stream",
     "text": [
      "\n",
      "Test Accuracy:  1.0\n",
      "\n",
      "Test Confusion Matrix:\n",
      "[[19  0]\n",
      " [ 0 11]]\n",
      "\n",
      "Test Precision = 1.000000\n",
      "Test Recall = 1.000000\n",
      "Test F1 Score = 1.000000\n",
      "\n",
      "Classification Report:\n",
      "              precision    recall  f1-score   support\n",
      "\n",
      "           0       1.00      1.00      1.00        19\n",
      "           1       1.00      1.00      1.00        11\n",
      "\n",
      "    accuracy                           1.00        30\n",
      "   macro avg       1.00      1.00      1.00        30\n",
      "weighted avg       1.00      1.00      1.00        30\n",
      "\n"
     ]
    }
   ],
   "source": [
    "y_test_predicted = lg_reg_clf.predict(X_test)\n",
    "\n",
    "test_accuracy_logreg = np.mean(y_test_predicted == y_test)\n",
    "print(\"\\nTest Accuracy: \", test_accuracy_logreg)\n",
    "\n",
    "\n",
    "print(\"\\nTest Confusion Matrix:\")\n",
    "print(confusion_matrix(y_test, y_test_predicted))\n",
    "\n",
    "\n",
    "precision_test = precision_score(y_test, y_test_predicted) \n",
    "print(\"\\nTest Precision = %f\" % precision_test)\n",
    "\n",
    "recall_test = recall_score(y_test, y_test_predicted)\n",
    "print(\"Test Recall = %f\" % recall_test)\n",
    "\n",
    "\n",
    "f1_test = f1_score(y_test, y_test_predicted)\n",
    "print(\"Test F1 Score = %f\" % f1_test)\n",
    "\n",
    "\n",
    "print(\"\\nClassification Report:\")\n",
    "print(classification_report(y_test, y_test_predicted))"
   ]
  },
  {
   "cell_type": "markdown",
   "metadata": {},
   "source": [
    "## Perceptron\n",
    "\n",
    "The relevant hyperparameters for the sklearn Perceptron model are.\n",
    "\n",
    "- penalty : None, ‘l2’ or ‘l1’ or ‘elasticnet’\n",
    "\n",
    "        The penalty (aka regularization term) to be used. Defaults to None.\n",
    "\n",
    "- alpha : float\n",
    "\n",
    "        Constant that multiplies the regularization term if regularization is used. Defaults to 0.0001\n",
    "\n",
    "- tol : The stopping criterion. Defaults to 1e-3.\n",
    "\n",
    "- max_iter : The maximum number of passes over the training data (aka epochs). \n",
    "\n",
    "\n",
    "We can vary these two hyperparameter (use grid search). However, for this simple problem, 'l2' regularization works fine."
   ]
  },
  {
   "cell_type": "code",
   "execution_count": 8,
   "metadata": {},
   "outputs": [
    {
     "name": "stdout",
     "output_type": "stream",
     "text": [
      "No. of Iterations: 8\n",
      "\n",
      "Weight Intercept: [-13.]\n",
      "Weight Coefficients: [[2.21184186 1.39074508]]\n",
      "\n",
      "Training Accuracy:  0.9666666666666667\n"
     ]
    }
   ],
   "source": [
    "perceptron_clf = Perceptron(penalty='l2', alpha=.1)\n",
    "\n",
    "perceptron_clf.fit(X_train, y_train)\n",
    "\n",
    "print(\"No. of Iterations:\", perceptron_clf.n_iter_ )\n",
    "print(\"\\nWeight Intercept:\", perceptron_clf.intercept_ )\n",
    "print(\"Weight Coefficients:\", perceptron_clf.coef_ )\n",
    "\n",
    "\n",
    "y_train_predicted = perceptron_clf.predict(X_train)\n",
    "\n",
    "\n",
    "train_accuracy_perceptron = np.mean(y_train_predicted == y_train)\n",
    "print(\"\\nTraining Accuracy: \", train_accuracy_perceptron)"
   ]
  },
  {
   "cell_type": "markdown",
   "metadata": {},
   "source": [
    "## Perceptron: Evaluation on Test Data"
   ]
  },
  {
   "cell_type": "code",
   "execution_count": 9,
   "metadata": {},
   "outputs": [
    {
     "name": "stdout",
     "output_type": "stream",
     "text": [
      "\n",
      "Test Accuracy:  1.0\n",
      "\n",
      "Test Confusion Matrix:\n",
      "[[19  0]\n",
      " [ 0 11]]\n",
      "\n",
      "Test Precision = 1.000000\n",
      "Test Recall = 1.000000\n",
      "Test F1 Score = 1.000000\n",
      "\n",
      "Classification Report:\n",
      "              precision    recall  f1-score   support\n",
      "\n",
      "           0       1.00      1.00      1.00        19\n",
      "           1       1.00      1.00      1.00        11\n",
      "\n",
      "    accuracy                           1.00        30\n",
      "   macro avg       1.00      1.00      1.00        30\n",
      "weighted avg       1.00      1.00      1.00        30\n",
      "\n"
     ]
    }
   ],
   "source": [
    "y_test_predicted = perceptron_clf.predict(X_test)\n",
    "\n",
    "test_accuracy_perceptron = np.mean(y_test_predicted == y_test)\n",
    "print(\"\\nTest Accuracy: \", test_accuracy_perceptron)\n",
    "\n",
    "print(\"\\nTest Confusion Matrix:\")\n",
    "print(confusion_matrix(y_test, y_test_predicted))\n",
    "\n",
    "precision_test = precision_score(y_test, y_test_predicted) \n",
    "print(\"\\nTest Precision = %f\" % precision_test)\n",
    "\n",
    "recall_test = recall_score(y_test, y_test_predicted)\n",
    "print(\"Test Recall = %f\" % recall_test)\n",
    "\n",
    "f1_test = f1_score(y_test, y_test_predicted)\n",
    "print(\"Test F1 Score = %f\" % f1_test)\n",
    "\n",
    "print(\"\\nClassification Report:\")\n",
    "print(classification_report(y_test, y_test_predicted))"
   ]
  },
  {
   "cell_type": "markdown",
   "metadata": {},
   "source": [
    "## Decision Boundary I: Equation Based"
   ]
  },
  {
   "cell_type": "code",
   "execution_count": 10,
   "metadata": {},
   "outputs": [
    {
     "data": {
      "image/png": "[encoded data removed]",
      "text/plain": [
       "<Figure size 1296x432 with 2 Axes>"
      ]
     },
     "metadata": {},
     "output_type": "display_data"
    }
   ],
   "source": [
    "plt.figure(figsize=(18,6))\n",
    "\n",
    "plt.subplot(121)\n",
    "decision_boundary_equation_based(lg_reg_clf, X)\n",
    "plt.text(3.5, 1.5, \"Not Iris-Virginica\", fontsize=14, color=\"b\", ha=\"center\")\n",
    "plt.text(6.5, 2.3, \"Iris-Virginica\", fontsize=14, color=\"g\", ha=\"center\")\n",
    "plt.plot(X[y.ravel()==0, 0], X[y.ravel()==0, 1], \"ro\")\n",
    "plt.plot(X[y.ravel()==1, 0], X[y.ravel()==1, 1], \"yo\")\n",
    "plt.xlabel(\"Petal length\", fontsize=14)\n",
    "plt.ylabel(\"Petal width\", fontsize=14)\n",
    "plt.title(\"Decision Boundary: Logistic Regression\\n Train Accuracy: %f \\n Test Accuracy: %f\"% \n",
    "          (train_accuracy_logreg, test_accuracy_logreg) , fontsize=16)\n",
    "plt.axis([2.9, 7, 0.8, 2.7])\n",
    "plt.xticks(())\n",
    "plt.yticks(())\n",
    "\n",
    "\n",
    "plt.subplot(122)\n",
    "decision_boundary_equation_based(perceptron_clf, X)\n",
    "plt.text(3.5, 1.5, \"Not Iris-Virginica\", fontsize=14, color=\"b\", ha=\"center\")\n",
    "plt.text(6.5, 2.3, \"Iris-Virginica\", fontsize=14, color=\"g\", ha=\"center\")\n",
    "plt.plot(X[y.ravel()==0, 0], X[y.ravel()==0, 1], \"ro\")\n",
    "plt.plot(X[y.ravel()==1, 0], X[y.ravel()==1, 1], \"yo\")\n",
    "plt.xlabel(\"Petal length\", fontsize=14)\n",
    "plt.ylabel(\"Petal width\", fontsize=14)\n",
    "plt.title(\"Decision Boundary: Perceptron\\n Train Accuracy: %f \\n Test Accuracy: %f\"% \n",
    "          (train_accuracy_perceptron, test_accuracy_perceptron) , fontsize=16)\n",
    "plt.axis([2.9, 7, 0.8, 2.7])\n",
    "plt.xticks(())\n",
    "plt.yticks(())\n",
    "\n",
    "plt.show()"
   ]
  },
  {
   "cell_type": "markdown",
   "metadata": {},
   "source": [
    "## Decision Boundary II: Class Probability Based"
   ]
  },
  {
   "cell_type": "code",
   "execution_count": 11,
   "metadata": {},
   "outputs": [
    {
     "data": {
      "image/png": "[encoded data removed]",
      "text/plain": [
       "<Figure size 1296x432 with 2 Axes>"
      ]
     },
     "metadata": {},
     "output_type": "display_data"
    }
   ],
   "source": [
    "plt.figure(figsize=(18,6))\n",
    "\n",
    "plt.subplot(121)\n",
    "decision_boundary_class_colored(lg_reg_clf, X, plotDistanceFromHyperplane=False)\n",
    "plt.text(3.5, 1.5, \"Not Iris-Virginica\", fontsize=14, color=\"b\", ha=\"center\")\n",
    "plt.text(6.5, 2.3, \"Iris-Virginica\", fontsize=14, color=\"g\", ha=\"center\")\n",
    "plt.plot(X[y.ravel()==0, 0], X[y.ravel()==0, 1], \"ro\")\n",
    "plt.plot(X[y.ravel()==1, 0], X[y.ravel()==1, 1], \"yo\")\n",
    "plt.xlabel(\"Petal length\", fontsize=14)\n",
    "plt.ylabel(\"Petal width\", fontsize=14)\n",
    "plt.title(\"Decision Boundary: Logistic Regression\\n Train Accuracy: %f \\n Test Accuracy: %f\"% \n",
    "          (train_accuracy_logreg, test_accuracy_logreg) , fontsize=16)\n",
    "plt.axis([2.9, 7, 0.8, 2.7])\n",
    "plt.xticks(())\n",
    "plt.yticks(())\n",
    "\n",
    "\n",
    "plt.subplot(122)\n",
    "decision_boundary_class_colored(perceptron_clf, X, plotDistanceFromHyperplane=False)\n",
    "plt.text(3.5, 1.5, \"Not Iris-Virginica\", fontsize=14, color=\"b\", ha=\"center\")\n",
    "plt.text(6.5, 2.3, \"Iris-Virginica\", fontsize=14, color=\"g\", ha=\"center\")\n",
    "plt.plot(X[y.ravel()==0, 0], X[y.ravel()==0, 1], \"ro\")\n",
    "plt.plot(X[y.ravel()==1, 0], X[y.ravel()==1, 1], \"yo\")\n",
    "plt.xlabel(\"Petal length\", fontsize=14)\n",
    "plt.ylabel(\"Petal width\", fontsize=14)\n",
    "plt.title(\"Decision Boundary: Perceptron\\n Train Accuracy: %f \\n Test Accuracy: %f\"% \n",
    "          (train_accuracy_perceptron, test_accuracy_perceptron) , fontsize=16)\n",
    "plt.axis([2.9, 7, 0.8, 2.7])\n",
    "plt.xticks(())\n",
    "plt.yticks(())\n",
    "\n",
    "plt.show()"
   ]
  },
  {
   "cell_type": "markdown",
   "metadata": {},
   "source": [
    "## Observation\n",
    "\n",
    "We see that for a linearly separable data set, the performance of Perceptron and Logistic Regression is similar. Because both are **linear models**.\n",
    "\n",
    "A Linear Model is able to classify data when it is linearly separable. However, for non-linear data, it is unable to make clear separation. We will see this in the next notebook and will use a non-linear model for classifying complex data."
   ]
  }
 ],
 "metadata": {
  "anaconda-cloud": {},
  "kernelspec": {
   "display_name": "Python 3",
   "language": "python",
   "name": "python3"
  },
  "language_info": {
   "codemirror_mode": {
    "name": "ipython",
    "version": 3
   },
   "file_extension": ".py",
   "mimetype": "text/x-python",
   "name": "python",
   "nbconvert_exporter": "python",
   "pygments_lexer": "ipython3",
   "version": "3.7.3"
  }
 },
 "nbformat": 4,
 "nbformat_minor": 1
}
