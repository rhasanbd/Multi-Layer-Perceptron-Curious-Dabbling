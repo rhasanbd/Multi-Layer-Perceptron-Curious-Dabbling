{
 "cells": [
  {
   "cell_type": "markdown",
   "metadata": {
    "collapsed": true
   },
   "source": [
    "# Multi-Layer Perceptron (MLP) - Large & Complex Data Set\n",
    "\n",
    "\n",
    "In this notebook we will train MLP classifier on a **large & non-linear data set**. We will use an image classification (multi-class) problem for experimentation. \n",
    "\n",
    "For a comparative understanding, we will compare the performance of the MLP with the SVM and Logistic Regression classifiers.\n",
    "\n",
    "We will use dimensionality reduction technique (Principle Component Analysis) to project the features into a smaller dimension to expedite the training time.\n",
    "\n",
    "Due to the non-linearity of the features (i.e., pixels), we will use the Gaussian Radial Basis Function (RBF) Kernel based Support Vector Machine (SVM). Previously we have seen that the Gaussian RBF Kernel based SVM performs better than Softmax regression classifier.\n",
    "\n",
    "In this notebook we will investigate whether MLP outperforms the Gaussian RBF Kernel SVM on a very large complex data set.\n",
    "\n",
    "We will conduct the following experiments.\n",
    "\n",
    "\n",
    "## Experiments\n",
    "\n",
    "- Experiment 1: Multi-Layer Perceptron + PCA\n",
    "- Experiment 2: Support Vector Machine (SVC with RBF Kernel) + PCA\n",
    "- Experiment 3: Logistic Regression (Softmax Regression) + PCA\n"
   ]
  },
  {
   "cell_type": "markdown",
   "metadata": {},
   "source": [
    "## Dataset: MNIST\n",
    "\n",
    "\n",
    "We will use the MNIST dataset, which is a set of 70,000 small images of digits handwritten by high school students and employees of the US Census Bureau. Each image is labeled with the digit it represents.\n",
    "\n",
    "\n",
    "There are 70,000 images. Each image is 28x28 pixels, and each feature simply represents one pixel’s intensity, from 0 (white) to 255 (black).\n",
    "\n",
    "Thus, each image has 784 features. "
   ]
  },
  {
   "cell_type": "code",
   "execution_count": 24,
   "metadata": {
    "collapsed": true
   },
   "outputs": [],
   "source": [
    "import numpy as np\n",
    "import pandas as pd\n",
    "\n",
    "\n",
    "\n",
    "from sklearn.datasets import fetch_mldata\n",
    "from sklearn.neural_network import MLPClassifier\n",
    "from sklearn.svm import LinearSVC, SVC\n",
    "from sklearn.linear_model import LogisticRegression\n",
    "\n",
    "from sklearn.metrics import confusion_matrix, precision_score, recall_score, f1_score, classification_report\n",
    "from sklearn.model_selection import train_test_split\n",
    "\n",
    "from sklearn.preprocessing import StandardScaler\n",
    "from sklearn.decomposition import PCA"
   ]
  },
  {
   "cell_type": "markdown",
   "metadata": {},
   "source": [
    "## Load Data and Create Data Matrix (X) and the Label Vector (y)"
   ]
  },
  {
   "cell_type": "code",
   "execution_count": 2,
   "metadata": {
    "collapsed": false
   },
   "outputs": [
    {
     "name": "stdout",
     "output_type": "stream",
     "text": [
      "(70000, 784)\n",
      "(70000,)\n"
     ]
    },
    {
     "name": "stderr",
     "output_type": "stream",
     "text": [
      "/Users/hasan/anaconda/lib/python3.5/site-packages/sklearn/utils/deprecation.py:77: DeprecationWarning: Function fetch_mldata is deprecated; fetch_mldata was deprecated in version 0.20 and will be removed in version 0.22\n",
      "  warnings.warn(msg, category=DeprecationWarning)\n",
      "/Users/hasan/anaconda/lib/python3.5/site-packages/sklearn/utils/deprecation.py:77: DeprecationWarning: Function mldata_filename is deprecated; mldata_filename was deprecated in version 0.20 and will be removed in version 0.22\n",
      "  warnings.warn(msg, category=DeprecationWarning)\n"
     ]
    }
   ],
   "source": [
    "mnist = fetch_mldata('MNIST original')\n",
    "\n",
    "X, y = mnist[\"data\"], mnist[\"target\"] \n",
    "\n",
    "print(X.shape)\n",
    "print(y.shape)"
   ]
  },
  {
   "cell_type": "markdown",
   "metadata": {},
   "source": [
    "## Split Data Into Training and Test Sets\n",
    "\n",
    "The MNIST dataset is already split into a training set (the first 60,000 images) and a test set (the last 10,000 images).\n",
    "\n",
    "We will shuffle the training set to ensure that all cross-validation folds will be similar. "
   ]
  },
  {
   "cell_type": "code",
   "execution_count": 3,
   "metadata": {
    "collapsed": true
   },
   "outputs": [],
   "source": [
    "X_train, X_test, y_train, y_test = X[:60000], X[60000:], y[:60000], y[60000:]\n",
    "\n",
    "shuffle_index = np.random.permutation(60000)\n",
    "X_train, y_train = X_train[shuffle_index], y_train[shuffle_index]"
   ]
  },
  {
   "cell_type": "markdown",
   "metadata": {},
   "source": [
    "# Optimization Using Dimensionaly Reduction\n",
    "\n",
    "We can optimize the running-time of the Logistic Regression algorithm by reducing the number of features. Our assumption is that the essence or core content of the data does not span along all dimensions. The technique for reducing the dimension of data is known as dimensionality reduction.\n",
    "\n",
    "For a gentle introduction to various dimensionality reduction technique, see the notebook \"Dimensionality Reduction\" in the Github repository.\n",
    "\n",
    "We will use the Principle Component Analysis (PCA) dimensionality reduction technique to project the MNIST dataset (784 features) to a lower dimensional space by retaining maximum variance. \n",
    "\n",
    "The goal is to see the improvement in training time due to this dimensionality reduction.\n",
    "\n",
    "Before we apply the PCA, we need to standardize the data."
   ]
  },
  {
   "cell_type": "markdown",
   "metadata": {},
   "source": [
    "## Standardize the Data\n",
    "\n",
    "PCA is influenced by scale of the data. Thus we need to scale the features of the data before applying PCA. \n",
    "\n",
    "For understanding the negative effect of not scaling the data, see the following post:\n",
    "\n",
    "https://scikit-learn.org/stable/auto_examples/preprocessing/plot_scaling_importance.html#sphx-glr-auto-examples-preprocessing-plot-scaling-importance-py\n",
    "\n",
    "Note that we fit the scaler on the training set and transform on the training and test set. "
   ]
  },
  {
   "cell_type": "code",
   "execution_count": 4,
   "metadata": {
    "collapsed": false
   },
   "outputs": [
    {
     "name": "stderr",
     "output_type": "stream",
     "text": [
      "/Users/hasan/anaconda/lib/python3.5/site-packages/sklearn/utils/validation.py:595: DataConversionWarning: Data with input dtype uint8 was converted to float64 by StandardScaler.\n",
      "  warnings.warn(msg, DataConversionWarning)\n",
      "/Users/hasan/anaconda/lib/python3.5/site-packages/sklearn/utils/validation.py:595: DataConversionWarning: Data with input dtype uint8 was converted to float64 by StandardScaler.\n",
      "  warnings.warn(msg, DataConversionWarning)\n",
      "/Users/hasan/anaconda/lib/python3.5/site-packages/sklearn/utils/validation.py:595: DataConversionWarning: Data with input dtype uint8 was converted to float64 by StandardScaler.\n",
      "  warnings.warn(msg, DataConversionWarning)\n"
     ]
    }
   ],
   "source": [
    "scaler = StandardScaler()\n",
    "\n",
    "# Fit on training set only.\n",
    "scaler.fit(X_train)\n",
    "\n",
    "# Apply transform to both the training set and the test set.\n",
    "X_train = scaler.transform(X_train)\n",
    "X_test = scaler.transform(X_test)"
   ]
  },
  {
   "cell_type": "markdown",
   "metadata": {},
   "source": [
    "## Apply PCA\n",
    "\n",
    "While applying PCA we can set the number of principle components by the \"n_components\" attribute. But more importantly, we can use this attribute to determine the % of variance we want to retain in the extracted features.\n",
    "\n",
    "For example, if we set it to 0.95, sklearn will choose the **minimum number of principal components** such that 95% of the variance is retained."
   ]
  },
  {
   "cell_type": "code",
   "execution_count": 5,
   "metadata": {
    "collapsed": false
   },
   "outputs": [
    {
     "name": "stdout",
     "output_type": "stream",
     "text": [
      "CPU times: user 18.1 s, sys: 1.02 s, total: 19.2 s\n",
      "Wall time: 6.14 s\n"
     ]
    }
   ],
   "source": [
    "%%time\n",
    "pca = PCA(n_components=0.95)\n",
    "\n",
    "pca.fit(X_train)"
   ]
  },
  {
   "cell_type": "markdown",
   "metadata": {},
   "source": [
    "## Number of Principle Components\n",
    "\n",
    "We can find how many components PCA chose after fitting the model by using the following attribute: n_components_\n",
    "\n",
    "We will see that 95% of the variance amounts to **315 principal components**."
   ]
  },
  {
   "cell_type": "code",
   "execution_count": 6,
   "metadata": {
    "collapsed": false
   },
   "outputs": [
    {
     "name": "stdout",
     "output_type": "stream",
     "text": [
      "Number of Principle Components:  331\n"
     ]
    }
   ],
   "source": [
    "print(\"Number of Principle Components: \", pca.n_components_)  "
   ]
  },
  {
   "cell_type": "markdown",
   "metadata": {},
   "source": [
    "## Apply the Mapping (Transform) to both the Training Set and the Test Set"
   ]
  },
  {
   "cell_type": "code",
   "execution_count": 7,
   "metadata": {
    "collapsed": true
   },
   "outputs": [],
   "source": [
    "X_train_pca = pca.transform(X_train)\n",
    "X_test_pca = pca.transform(X_test)"
   ]
  },
  {
   "cell_type": "markdown",
   "metadata": {},
   "source": [
    "## Experiments\n",
    "\n",
    "We will conduct the following experiments.\n",
    "\n",
    "- Experiment 1: Multi-Layer Perceptron + PCA\n",
    "- Experiment 2: Support Vector Machine (SVC with RBF Kernel) + PCA\n",
    "- Experiment 3: Logistic Regression (Softmax Regression) + PCA\n"
   ]
  },
  {
   "cell_type": "markdown",
   "metadata": {},
   "source": [
    "## Experiment 1: MLP + PCA\n",
    "\n",
    "See the notebook \"Perceptron-MLP-Nonlinear Data\" for a discussion on various solvers that are used by MLP and the hyperparameters.\n",
    "\n",
    "Since the data set for this experiment is large, we will use the \"sgd\" solver. Although \"adam\" is very similar to \"sgd\", it requires a lot more epochs (set by the \"max_iter\" hyperparameter) on this data set.\n",
    "\n",
    "Although we did not do hyperparameter tunining, using multiple experimentation we converged to some near-optimal values for the parameters.\n",
    "- One hidden layer with 150 neurons worked pretty well.\n",
    "- 200 epochs was enough.\n",
    "- The regularization constant alpha was set to 0.1.\n",
    "- The'logistic' activation function performed better than 'relu'.\n"
   ]
  },
  {
   "cell_type": "code",
   "execution_count": 20,
   "metadata": {
    "collapsed": false
   },
   "outputs": [
    {
     "name": "stdout",
     "output_type": "stream",
     "text": [
      "Iteration 1, loss = 0.40879734\n",
      "Iteration 2, loss = 0.25431335\n",
      "Iteration 3, loss = 0.22433927\n",
      "Iteration 4, loss = 0.20763200\n",
      "Iteration 5, loss = 0.19647685\n",
      "Iteration 6, loss = 0.18940678\n",
      "Iteration 7, loss = 0.18500662\n",
      "Iteration 8, loss = 0.18112626\n",
      "Iteration 9, loss = 0.17798439\n",
      "Iteration 10, loss = 0.17557598\n",
      "Iteration 11, loss = 0.17357839\n",
      "Iteration 12, loss = 0.17211417\n",
      "Iteration 13, loss = 0.17093582\n",
      "Iteration 14, loss = 0.16963441\n",
      "Iteration 15, loss = 0.16970006\n",
      "Iteration 16, loss = 0.16820864\n",
      "Iteration 17, loss = 0.16747122\n",
      "Iteration 18, loss = 0.16675499\n",
      "Iteration 19, loss = 0.16740125\n",
      "Iteration 20, loss = 0.16611134\n",
      "Iteration 21, loss = 0.16509128\n",
      "Iteration 22, loss = 0.16451991\n",
      "Iteration 23, loss = 0.16437355\n",
      "Iteration 24, loss = 0.16370417\n",
      "Iteration 25, loss = 0.16384354\n",
      "Iteration 26, loss = 0.16312313\n",
      "Iteration 27, loss = 0.16217829\n",
      "Iteration 28, loss = 0.16191656\n",
      "Iteration 29, loss = 0.16150645\n",
      "Iteration 30, loss = 0.16154703\n",
      "Iteration 31, loss = 0.16192621\n",
      "Iteration 32, loss = 0.16064465\n",
      "Iteration 33, loss = 0.15989890\n",
      "Iteration 34, loss = 0.16028503\n",
      "Iteration 35, loss = 0.15997478\n",
      "Iteration 36, loss = 0.15926744\n",
      "Iteration 37, loss = 0.15915027\n",
      "Iteration 38, loss = 0.15908291\n",
      "Iteration 39, loss = 0.15924399\n",
      "Iteration 40, loss = 0.15963358\n",
      "Iteration 41, loss = 0.15856657\n",
      "Iteration 42, loss = 0.15860152\n",
      "Iteration 43, loss = 0.15837244\n",
      "Iteration 44, loss = 0.15828765\n",
      "Iteration 45, loss = 0.15807653\n",
      "Iteration 46, loss = 0.15824840\n",
      "Iteration 47, loss = 0.15876557\n",
      "Iteration 48, loss = 0.15777140\n",
      "Iteration 49, loss = 0.15732571\n",
      "Iteration 50, loss = 0.15720861\n",
      "Iteration 51, loss = 0.15697099\n",
      "Iteration 52, loss = 0.15641333\n",
      "Iteration 53, loss = 0.15745907\n",
      "Iteration 54, loss = 0.15672555\n",
      "Iteration 55, loss = 0.15701567\n",
      "Iteration 56, loss = 0.15717336\n",
      "Iteration 57, loss = 0.15670103\n",
      "Iteration 58, loss = 0.15656933\n",
      "Iteration 59, loss = 0.15670520\n",
      "Iteration 60, loss = 0.15589819\n",
      "Iteration 61, loss = 0.15584016\n",
      "Iteration 62, loss = 0.15588917\n",
      "Iteration 63, loss = 0.15519984\n",
      "Iteration 64, loss = 0.15505121\n",
      "Iteration 65, loss = 0.15548632\n",
      "Iteration 66, loss = 0.15519421\n",
      "Iteration 67, loss = 0.15501391\n",
      "Iteration 68, loss = 0.15485145\n",
      "Iteration 69, loss = 0.15464322\n",
      "Iteration 70, loss = 0.15446529\n",
      "Iteration 71, loss = 0.15395989\n",
      "Iteration 72, loss = 0.15455101\n",
      "Iteration 73, loss = 0.15432406\n",
      "Iteration 74, loss = 0.15488073\n",
      "Iteration 75, loss = 0.15494277\n",
      "Iteration 76, loss = 0.15412306\n",
      "Iteration 77, loss = 0.15411031\n",
      "Iteration 78, loss = 0.15371836\n",
      "Iteration 79, loss = 0.15360369\n",
      "Iteration 80, loss = 0.15331364\n",
      "Iteration 81, loss = 0.15341133\n",
      "Iteration 82, loss = 0.15310246\n",
      "Iteration 83, loss = 0.15311556\n",
      "Iteration 84, loss = 0.15311233\n",
      "Iteration 85, loss = 0.15334830\n",
      "Iteration 86, loss = 0.15313271\n",
      "Iteration 87, loss = 0.15271597\n",
      "Iteration 88, loss = 0.15289440\n",
      "Iteration 89, loss = 0.15260778\n",
      "Iteration 90, loss = 0.15222871\n",
      "Iteration 91, loss = 0.15231780\n",
      "Iteration 92, loss = 0.15255551\n",
      "Iteration 93, loss = 0.15265814\n",
      "Iteration 94, loss = 0.15288750\n",
      "Iteration 95, loss = 0.15301013\n",
      "Iteration 96, loss = 0.15280028\n",
      "Iteration 97, loss = 0.15346637\n",
      "Iteration 98, loss = 0.15274773\n",
      "Iteration 99, loss = 0.15205668\n",
      "Iteration 100, loss = 0.15193309\n",
      "Iteration 101, loss = 0.15182092\n",
      "Iteration 102, loss = 0.15156637\n",
      "Iteration 103, loss = 0.15179916\n",
      "Iteration 104, loss = 0.15138657\n",
      "Iteration 105, loss = 0.15163387\n",
      "Iteration 106, loss = 0.15166583\n",
      "Iteration 107, loss = 0.15143196\n",
      "Iteration 108, loss = 0.15113805\n",
      "Iteration 109, loss = 0.15105839\n",
      "Iteration 110, loss = 0.15194494\n",
      "Iteration 111, loss = 0.15236119\n",
      "Iteration 112, loss = 0.15174796\n",
      "Iteration 113, loss = 0.15168959\n",
      "Iteration 114, loss = 0.15087685\n",
      "Iteration 115, loss = 0.15145880\n",
      "Iteration 116, loss = 0.15115995\n",
      "Iteration 117, loss = 0.15092502\n",
      "Iteration 118, loss = 0.15055195\n",
      "Iteration 119, loss = 0.15085248\n",
      "Iteration 120, loss = 0.15093662\n",
      "Iteration 121, loss = 0.15080412\n",
      "Iteration 122, loss = 0.15092699\n",
      "Iteration 123, loss = 0.15079388\n",
      "Iteration 124, loss = 0.15055839\n",
      "Iteration 125, loss = 0.15052247\n",
      "Iteration 126, loss = 0.15040400\n",
      "Iteration 127, loss = 0.15062306\n",
      "Iteration 128, loss = 0.15042266\n",
      "Iteration 129, loss = 0.15069979\n",
      "Iteration 130, loss = 0.15115401\n",
      "Iteration 131, loss = 0.15060076\n",
      "Iteration 132, loss = 0.15045268\n",
      "Iteration 133, loss = 0.15043929\n",
      "Iteration 134, loss = 0.15125402\n",
      "Iteration 135, loss = 0.15059410\n",
      "Iteration 136, loss = 0.15006771\n",
      "Iteration 137, loss = 0.15001400\n",
      "Iteration 138, loss = 0.14989271\n",
      "Iteration 139, loss = 0.14998693\n",
      "Iteration 140, loss = 0.14974008\n",
      "Iteration 141, loss = 0.14955610\n",
      "Iteration 142, loss = 0.14959866\n",
      "Iteration 143, loss = 0.14980964\n",
      "Iteration 144, loss = 0.14962237\n",
      "Iteration 145, loss = 0.14979624\n",
      "Iteration 146, loss = 0.14979409\n",
      "Iteration 147, loss = 0.15001116\n",
      "Iteration 148, loss = 0.14994091\n",
      "Iteration 149, loss = 0.15009693\n",
      "Iteration 150, loss = 0.14936149\n",
      "Iteration 151, loss = 0.14940047\n",
      "Iteration 152, loss = 0.14922039\n",
      "Iteration 153, loss = 0.14980331\n",
      "Iteration 154, loss = 0.14912422\n",
      "Iteration 155, loss = 0.15012405\n",
      "Iteration 156, loss = 0.14999547\n",
      "Iteration 157, loss = 0.14989863\n",
      "Iteration 158, loss = 0.14950078\n",
      "Iteration 159, loss = 0.14922631\n",
      "Iteration 160, loss = 0.14904043\n",
      "Iteration 161, loss = 0.14902082\n",
      "Iteration 162, loss = 0.14880607\n",
      "Iteration 163, loss = 0.14946507\n",
      "Iteration 164, loss = 0.14962614\n",
      "Iteration 165, loss = 0.14940242\n",
      "Iteration 166, loss = 0.14929849\n",
      "Iteration 167, loss = 0.14905274\n",
      "Iteration 168, loss = 0.14845656\n",
      "Iteration 169, loss = 0.14832084\n",
      "Iteration 170, loss = 0.14886033\n",
      "Iteration 171, loss = 0.14908340\n",
      "Iteration 172, loss = 0.14912318\n",
      "Iteration 173, loss = 0.14898975\n",
      "Iteration 174, loss = 0.14861873\n",
      "Iteration 175, loss = 0.14939578\n",
      "Iteration 176, loss = 0.14915807\n",
      "Iteration 177, loss = 0.14883720\n",
      "Iteration 178, loss = 0.14832413\n",
      "Iteration 179, loss = 0.14810819\n",
      "Iteration 180, loss = 0.14812692\n",
      "Iteration 181, loss = 0.14853784\n",
      "Iteration 182, loss = 0.14909642\n",
      "Iteration 183, loss = 0.14892144\n",
      "Iteration 184, loss = 0.14880881\n",
      "Iteration 185, loss = 0.14794838\n",
      "Iteration 186, loss = 0.14861272\n",
      "Iteration 187, loss = 0.14818882\n",
      "Iteration 188, loss = 0.14807775\n",
      "Iteration 189, loss = 0.14849361\n",
      "Iteration 190, loss = 0.14815006\n",
      "Iteration 191, loss = 0.14890715\n",
      "Iteration 192, loss = 0.14888957\n",
      "Iteration 193, loss = 0.14855580\n",
      "Iteration 194, loss = 0.14817610\n",
      "Iteration 195, loss = 0.14852292\n",
      "Iteration 196, loss = 0.14825617\n",
      "Training loss did not improve more than tol=0.000010 for 10 consecutive epochs. Stopping.\n",
      "No. of Iterations: 196\n",
      "\n",
      "Training Accuracy:  0.9879833333333333\n",
      "CPU times: user 8min 15s, sys: 1min 22s, total: 9min 38s\n",
      "Wall time: 2min 26s\n"
     ]
    }
   ],
   "source": [
    "%%time\n",
    "mlp_clf = MLPClassifier(hidden_layer_sizes=(150,), max_iter=200, alpha=0.1,\n",
    "                    solver='sgd', verbose=True, tol=1e-5, random_state=1,\n",
    "                    learning_rate_init=.1, activation='logistic')\n",
    "\n",
    "mlp_clf.fit(X_train_pca, y_train)\n",
    "\n",
    "print(\"No. of Iterations:\", mlp_clf.n_iter_ )\n",
    "\n",
    "y_train_predicted = mlp_clf.predict(X_train_pca)\n",
    "\n",
    "train_accuracy_mlp = np.mean(y_train_predicted == y_train)\n",
    "print(\"\\nTraining Accuracy: \", train_accuracy_mlp)"
   ]
  },
  {
   "cell_type": "markdown",
   "metadata": {},
   "source": [
    "## Experiment 1: Evaluate MLP + PCA on Test Data"
   ]
  },
  {
   "cell_type": "code",
   "execution_count": 21,
   "metadata": {
    "collapsed": false
   },
   "outputs": [
    {
     "name": "stdout",
     "output_type": "stream",
     "text": [
      "\n",
      "Test Accuracy:  0.9752\n",
      "\n",
      "Test Confusion Matrix:\n",
      "[[ 972    0    2    2    0    1    1    1    1    0]\n",
      " [   0 1125    3    1    0    1    2    1    2    0]\n",
      " [   5    1 1005    1    1    0    2    6   10    1]\n",
      " [   0    0    3  989    0    2    1    7    4    4]\n",
      " [   1    0    1    1  958    0    6    2    2   11]\n",
      " [   2    1    0   10    2  863    6    2    5    1]\n",
      " [   7    3    2    1    3    6  932    0    4    0]\n",
      " [   1   10   10    3    0    0    0  997    0    7]\n",
      " [   6    1    2    6    4    4    2    4  943    2]\n",
      " [   4    5    1    9   12    4    0    5    1  968]]\n",
      "\n",
      "Classification Report:\n",
      "              precision    recall  f1-score   support\n",
      "\n",
      "         0.0       0.97      0.99      0.98       980\n",
      "         1.0       0.98      0.99      0.99      1135\n",
      "         2.0       0.98      0.97      0.98      1032\n",
      "         3.0       0.97      0.98      0.97      1010\n",
      "         4.0       0.98      0.98      0.98       982\n",
      "         5.0       0.98      0.97      0.97       892\n",
      "         6.0       0.98      0.97      0.98       958\n",
      "         7.0       0.97      0.97      0.97      1028\n",
      "         8.0       0.97      0.97      0.97       974\n",
      "         9.0       0.97      0.96      0.97      1009\n",
      "\n",
      "   micro avg       0.98      0.98      0.98     10000\n",
      "   macro avg       0.98      0.97      0.98     10000\n",
      "weighted avg       0.98      0.98      0.98     10000\n",
      "\n",
      "CPU times: user 250 ms, sys: 46.5 ms, total: 297 ms\n",
      "Wall time: 82.5 ms\n"
     ]
    }
   ],
   "source": [
    "%%time\n",
    "y_test_predicted = mlp_clf.predict(X_test_pca)\n",
    "\n",
    "test_accuracy_mlp = np.mean(y_test_predicted == y_test)\n",
    "print(\"\\nTest Accuracy: \", test_accuracy_mlp)\n",
    "\n",
    "print(\"\\nTest Confusion Matrix:\")\n",
    "print(confusion_matrix(y_test, y_test_predicted))\n",
    "\n",
    "print(\"\\nClassification Report:\")\n",
    "print(classification_report(y_test, y_test_predicted))"
   ]
  },
  {
   "cell_type": "markdown",
   "metadata": {},
   "source": [
    "## Experiment 2: SVC (RBF Kernel) + PCA"
   ]
  },
  {
   "cell_type": "code",
   "execution_count": 17,
   "metadata": {
    "collapsed": false
   },
   "outputs": [
    {
     "name": "stdout",
     "output_type": "stream",
     "text": [
      "CPU times: user 3min 34s, sys: 399 ms, total: 3min 35s\n",
      "Wall time: 3min 35s\n"
     ]
    }
   ],
   "source": [
    "%%time\n",
    "svm_clf_pca = SVC(C=1, gamma=0.001)\n",
    "svm_clf_pca.fit(X_train_pca, y_train)"
   ]
  },
  {
   "cell_type": "markdown",
   "metadata": {},
   "source": [
    "## Experiment 2: Evaluate SVC (RBF Kernel) + PCA on Test Data"
   ]
  },
  {
   "cell_type": "code",
   "execution_count": 18,
   "metadata": {
    "collapsed": false
   },
   "outputs": [
    {
     "name": "stdout",
     "output_type": "stream",
     "text": [
      "\n",
      "Test Accuracy:  0.9659\n",
      "\n",
      "Test Confusion Matrix:\n",
      "[[ 968    0    2    1    0    3    3    1    2    0]\n",
      " [   0 1126    3    0    0    1    3    0    2    0]\n",
      " [   6    2  993    3    2    0    1   14   10    1]\n",
      " [   0    0    2  984    1    7    0   10    6    0]\n",
      " [   1    0    8    0  945    2    4    7    2   13]\n",
      " [   2    0    1   12    3  854    7    5    7    1]\n",
      " [   6    2    1    0    4    9  930    2    4    0]\n",
      " [   0    7   17    3    1    1    0  986    0   13]\n",
      " [   3    0    4    9    6   12    3    9  926    2]\n",
      " [   4    6    4   12   17    2    0   14    3  947]]\n",
      "\n",
      "Classification Report:\n",
      "              precision    recall  f1-score   support\n",
      "\n",
      "         0.0       0.98      0.99      0.98       980\n",
      "         1.0       0.99      0.99      0.99      1135\n",
      "         2.0       0.96      0.96      0.96      1032\n",
      "         3.0       0.96      0.97      0.97      1010\n",
      "         4.0       0.97      0.96      0.96       982\n",
      "         5.0       0.96      0.96      0.96       892\n",
      "         6.0       0.98      0.97      0.97       958\n",
      "         7.0       0.94      0.96      0.95      1028\n",
      "         8.0       0.96      0.95      0.96       974\n",
      "         9.0       0.97      0.94      0.95      1009\n",
      "\n",
      "   micro avg       0.97      0.97      0.97     10000\n",
      "   macro avg       0.97      0.97      0.97     10000\n",
      "weighted avg       0.97      0.97      0.97     10000\n",
      "\n",
      "CPU times: user 51.4 s, sys: 108 ms, total: 51.5 s\n",
      "Wall time: 51.6 s\n"
     ]
    }
   ],
   "source": [
    "%%time\n",
    "\n",
    "y_test_predicted = svm_clf_pca.predict(X_test_pca)\n",
    "\n",
    "accuracy_score_test = np.mean(y_test_predicted == y_test)\n",
    "print(\"\\nTest Accuracy: \", accuracy_score_test)\n",
    "\n",
    "print(\"\\nTest Confusion Matrix:\")\n",
    "print(confusion_matrix(y_test, y_test_predicted))\n",
    "\n",
    "print(\"\\nClassification Report:\")\n",
    "print(classification_report(y_test, y_test_predicted))"
   ]
  },
  {
   "cell_type": "markdown",
   "metadata": {},
   "source": [
    "## Experiment 3: Logistic Regression (Softmax Regression) + PCA\n",
    "\n",
    "We use the best performing solver (i.e., lbfgs) from previous notebook to train the logistic regression model on the PCA transformed data."
   ]
  },
  {
   "cell_type": "code",
   "execution_count": 13,
   "metadata": {
    "collapsed": false
   },
   "outputs": [
    {
     "name": "stdout",
     "output_type": "stream",
     "text": [
      "CPU times: user 32 s, sys: 2.11 s, total: 34.2 s\n",
      "Wall time: 8.67 s\n"
     ]
    },
    {
     "name": "stderr",
     "output_type": "stream",
     "text": [
      "/Users/hasan/anaconda/lib/python3.5/site-packages/sklearn/linear_model/logistic.py:758: ConvergenceWarning: lbfgs failed to converge. Increase the number of iterations.\n",
      "  \"of iterations.\", ConvergenceWarning)\n"
     ]
    }
   ],
   "source": [
    "%%time\n",
    "softmax_reg_pca = LogisticRegression(solver='lbfgs', multi_class='multinomial')\n",
    "\n",
    "softmax_reg_pca.fit(X_train_pca, y_train)"
   ]
  },
  {
   "cell_type": "markdown",
   "metadata": {},
   "source": [
    "## Experiment 4: Evaluate Softmax Regression + PCA on Test Data"
   ]
  },
  {
   "cell_type": "code",
   "execution_count": 14,
   "metadata": {
    "collapsed": false
   },
   "outputs": [
    {
     "name": "stdout",
     "output_type": "stream",
     "text": [
      "No. of Iterations: [100]\n",
      "\n",
      "Test Accuracy:  0.9265\n",
      "\n",
      "Test Confusion Matrix:\n",
      "[[ 957    0    1    2    1    6    8    3    2    0]\n",
      " [   0 1114    3    2    0    1    3    2   10    0]\n",
      " [   7    5  931   17   12    3    9   11   34    3]\n",
      " [   3    3   18  919    1   22    3   11   23    7]\n",
      " [   1    2    8    2  917    0   10    4    9   29]\n",
      " [   7    5    3   33    8  778   13    6   35    4]\n",
      " [  12    3    8    2    6   12  912    1    2    0]\n",
      " [   0    9   29    5    6    1    0  948    0   30]\n",
      " [   6    6    6   22    9   24    7   11  874    9]\n",
      " [   9    7    2   10   25    7    0   26    8  915]]\n",
      "\n",
      "Classification Report:\n",
      "              precision    recall  f1-score   support\n",
      "\n",
      "         0.0       0.96      0.98      0.97       980\n",
      "         1.0       0.97      0.98      0.97      1135\n",
      "         2.0       0.92      0.90      0.91      1032\n",
      "         3.0       0.91      0.91      0.91      1010\n",
      "         4.0       0.93      0.93      0.93       982\n",
      "         5.0       0.91      0.87      0.89       892\n",
      "         6.0       0.95      0.95      0.95       958\n",
      "         7.0       0.93      0.92      0.92      1028\n",
      "         8.0       0.88      0.90      0.89       974\n",
      "         9.0       0.92      0.91      0.91      1009\n",
      "\n",
      "   micro avg       0.93      0.93      0.93     10000\n",
      "   macro avg       0.93      0.93      0.93     10000\n",
      "weighted avg       0.93      0.93      0.93     10000\n",
      "\n"
     ]
    }
   ],
   "source": [
    "print(\"No. of Iterations:\", softmax_reg_pca.n_iter_ )\n",
    "\n",
    "\n",
    "y_test_predicted = softmax_reg_pca.predict(X_test_pca)\n",
    "\n",
    "\n",
    "accuracy_score_test = np.mean(y_test_predicted == y_test)\n",
    "print(\"\\nTest Accuracy: \", accuracy_score_test)\n",
    "\n",
    "\n",
    "print(\"\\nTest Confusion Matrix:\")\n",
    "print(confusion_matrix(y_test, y_test_predicted))\n",
    "\n",
    "\n",
    "print(\"\\nClassification Report:\")\n",
    "print(classification_report(y_test, y_test_predicted))"
   ]
  },
  {
   "cell_type": "markdown",
   "metadata": {},
   "source": [
    "# Summary of Results from 3 Experiments"
   ]
  },
  {
   "cell_type": "code",
   "execution_count": 25,
   "metadata": {
    "collapsed": false
   },
   "outputs": [
    {
     "data": {
      "text/html": [
       "<div>\n",
       "<style scoped>\n",
       "    .dataframe tbody tr th:only-of-type {\n",
       "        vertical-align: middle;\n",
       "    }\n",
       "\n",
       "    .dataframe tbody tr th {\n",
       "        vertical-align: top;\n",
       "    }\n",
       "\n",
       "    .dataframe thead th {\n",
       "        text-align: right;\n",
       "    }\n",
       "</style>\n",
       "<table border=\"1\" class=\"dataframe\">\n",
       "  <thead>\n",
       "    <tr style=\"text-align: right;\">\n",
       "      <th></th>\n",
       "      <th>Classifier</th>\n",
       "      <th>Accuracy</th>\n",
       "      <th>Running-Time</th>\n",
       "    </tr>\n",
       "  </thead>\n",
       "  <tbody>\n",
       "    <tr>\n",
       "      <th>0</th>\n",
       "      <td>MLP + PCA (200 epochs)</td>\n",
       "      <td>0.9752</td>\n",
       "      <td>2min 26s</td>\n",
       "    </tr>\n",
       "    <tr>\n",
       "      <th>1</th>\n",
       "      <td>SVM(RBF) + PCA</td>\n",
       "      <td>0.9659</td>\n",
       "      <td>3min 34s</td>\n",
       "    </tr>\n",
       "    <tr>\n",
       "      <th>2</th>\n",
       "      <td>Softmax + PCA</td>\n",
       "      <td>0.9265</td>\n",
       "      <td>8.67 s</td>\n",
       "    </tr>\n",
       "  </tbody>\n",
       "</table>\n",
       "</div>"
      ],
      "text/plain": [
       "               Classifier  Accuracy Running-Time\n",
       "0  MLP + PCA (200 epochs)    0.9752     2min 26s\n",
       "1          SVM(RBF) + PCA    0.9659     3min 34s\n",
       "2           Softmax + PCA    0.9265       8.67 s"
      ]
     },
     "execution_count": 25,
     "metadata": {},
     "output_type": "execute_result"
    }
   ],
   "source": [
    "data = [[\"MLP + PCA (200 epochs)\", 0.9752, \"2min 26s\"], \n",
    "        [\"SVM(RBF) + PCA\", 0.9659, \"3min 34s\"],\n",
    "        [\"Softmax + PCA\", 0.9265, \"8.67 s\"]]\n",
    "\n",
    "pd.DataFrame(data, columns=[\"Classifier\", \"Accuracy\", \"Running-Time\"])\n"
   ]
  },
  {
   "cell_type": "markdown",
   "metadata": {},
   "source": [
    "## Comparative Understanding\n",
    "\n",
    "We have done 3 experiments using MLP, Kernel SVM and Logistic Regression classifiers.\n",
    "\n",
    "We make following observations.\n",
    "- The MLP outperforms other two classifiers.\n",
    "- Understandably logistic regression performed poorly due to the non-linear nature of the data. However, it is faster.\n",
    "- MLP is faster than the Kernel SVM. Because the dual SVM optimization complexity is $O(N^2d)$.\n",
    "\n",
    "### Thus, for large non-linear data set (e.g., image classification) MLP performs better than the RBF kernel based SVM."
   ]
  }
 ],
 "metadata": {
  "anaconda-cloud": {},
  "kernelspec": {
   "display_name": "Python [conda root]",
   "language": "python",
   "name": "conda-root-py"
  },
  "language_info": {
   "codemirror_mode": {
    "name": "ipython",
    "version": 3
   },
   "file_extension": ".py",
   "mimetype": "text/x-python",
   "name": "python",
   "nbconvert_exporter": "python",
   "pygments_lexer": "ipython3",
   "version": "3.5.2"
  }
 },
 "nbformat": 4,
 "nbformat_minor": 1
}
