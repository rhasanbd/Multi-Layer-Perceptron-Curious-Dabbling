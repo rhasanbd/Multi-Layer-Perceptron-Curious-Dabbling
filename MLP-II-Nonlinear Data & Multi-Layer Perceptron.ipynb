{
 "cells": [
  {
   "cell_type": "markdown",
   "metadata": {},
   "source": [
    "# Perceptron & Multi-Layer Perceptron (MLP): Nonlinear Data\n",
    "\n",
    "\n",
    "In this notebook we will study the performance of the Perceptron model on a non-linear data set in comparison to another linear model, i.e., Logistic Regression. Then, we will study the performance of the Multi-Layer Perceptron (MLP), which is a non-linear model.\n",
    "\n",
    "Since both Perceptron and Logistic Regression are **linear models**, they are unable to classsify non-linear data. We will see that these models won't create non-linear decision boundary.\n",
    "\n",
    "One approach to classify non-linear data by using these linear models is to map the features onto a high-dimensional space such that data becomes linearly separable.\n",
    "\n",
    "However, this solution suffers from the **curse of dimensionality** when the dataset is high-dimensional (e.g., image classfication problems in which number of features are very large). Also, it is not clear how to optimaly choose the basis function. Thus, feature augmentation is not a feasible solution for high-dimensional non-linear data.\n",
    "\n",
    "We have seen that using the **kernel trick** we can bypass the curse of dimensionality. The Gaussian Radial Basis Function (RBF) kernel based Support Vector Machine (SVM) classifier can create non-linear decision boundary without exploding the feature dimension. However, the dual optimization problem that we use to derive optimal solution for the kernel SVM is infeasible for large data set (it's complexity is $O(N^2d)$ ~ $O(N^3d)$).\n",
    "\n",
    "### Very Large and Non-Linear Dataset\n",
    "\n",
    "Thus, for a very large and non-linear data set, we need a model that does the classification without exploding the feature space as much the SVM models do.\n",
    "\n",
    "To achieve this goal, we use **non-linear** models. \n",
    "\n",
    "The Multi-Layer Perceptron (MLP) or Artificial Neural Network (ANN) is a non-linear model that is able to create non-linear decision boundary.\n",
    "\n",
    "In this notebook we will see how to classify a non-linear dataset using the MLP. But before that we will attempt to classify the data using Perceptron and Logistic Regression. "
   ]
  },
  {
   "cell_type": "code",
   "execution_count": 1,
   "metadata": {},
   "outputs": [],
   "source": [
    "import numpy as np\n",
    "%matplotlib inline\n",
    "import matplotlib.pyplot as plt\n",
    "\n",
    "from sklearn.neural_network import MLPClassifier\n",
    "from sklearn.datasets import make_circles\n",
    "\n",
    "from sklearn.preprocessing import StandardScaler\n",
    "from sklearn.linear_model import LogisticRegression, Perceptron\n",
    "from sklearn.metrics import confusion_matrix, precision_score, recall_score, f1_score, classification_report\n",
    "from sklearn.model_selection import train_test_split, GridSearchCV, cross_val_score"
   ]
  },
  {
   "cell_type": "markdown",
   "metadata": {},
   "source": [
    "## Function for Drawing Decision Boundary\n",
    "\n",
    "We use two functions for plotting the decision boundary:\n",
    "- Equation based\n",
    "- Class probability based\n",
    "\n",
    "Detail discussion on these two functions are given in the \"Logistic Regression - Binary Classification\" notebook."
   ]
  },
  {
   "cell_type": "code",
   "execution_count": 2,
   "metadata": {},
   "outputs": [],
   "source": [
    "def decision_boundary_equation_based(clf, X):\n",
    "    \n",
    "    xmin, xmax = X.min() - 1, X.max() + 1\n",
    "    \n",
    "    w = clf.coef_[0]\n",
    "    b = clf.intercept_[0]\n",
    "\n",
    "    x1 = np.linspace(xmin, xmax, 100)\n",
    "    decision_boundary = -(b + w[0]*x1)/w[1]\n",
    "    plt.plot(x1, decision_boundary, \"k--\", linewidth=3)\n",
    "    \n",
    "    \n",
    "def decision_boundary_class_colored(clf, X, plotDistanceFromHyperplane=False, colorBar=False):\n",
    "    \n",
    "    # Get the min and max value of feature x1\n",
    "    x1min, x1max = X[:,0].min() - 1, X[:, 0].max() + 1\n",
    "    \n",
    "    # Get the min and max value of feature x2\n",
    "    x2min, x2max = X[:,1].min() - 1, X[:, 1].max() + 1\n",
    "    \n",
    "    # Create the mesh grid\n",
    "    x1s = np.linspace(x1min, x1max, 100)\n",
    "    x2s = np.linspace(x2min, x2max, 100)\n",
    "    x1, x2 = np.meshgrid(x1s, x2s)\n",
    "    \n",
    "    \n",
    "    # Create pairs of new points from the grid\n",
    "    X_new = np.c_[x1.ravel(), x2.ravel()]\n",
    "    \n",
    "    \n",
    "    # Compute the class predictions for all new points\n",
    "    y_pred = clf.predict(X_new).reshape(x1.shape)\n",
    "    \n",
    "    \n",
    "    # Generate the contourf plot for the predictions\n",
    "    plt.contourf(x1, x2, y_pred, cmap=plt.cm.bwr, alpha=0.2)\n",
    "    \n",
    "    \n",
    "    if(plotDistanceFromHyperplane == True):\n",
    "    \n",
    "        # Compute the signed distance of a sample to the hyperplane for all new points\n",
    "        y_decision = clf.decision_function(X_new).reshape(x1.shape)\n",
    "\n",
    "        # Generate the contourf plot for the distance of all points from the hyperplane\n",
    "        plt.contourf(x1, x2, y_decision, cmap=plt.cm.bwr, alpha=0.2)\n",
    "    \n",
    "    if(colorBar==True):\n",
    "        plt.colorbar()\n",
    "    "
   ]
  },
  {
   "cell_type": "markdown",
   "metadata": {},
   "source": [
    "# Dataset\n",
    "\n",
    "We will use Scikit-Learn's \"datasets.make_circles\" function to generate a synthetic non-linear dataset that is suitable for investigating classification (as well as clustering) models. It creates a large circle containing a smaller circle in 2D.\n",
    "\n",
    "The following two parameters are used by the make_circles function:\n",
    "\n",
    "- factor : Scale factor between inner and outer circle. Range 0 ~ 1.\n",
    "\n",
    "- noise : Standard deviation of Gaussian noise added to the data."
   ]
  },
  {
   "cell_type": "code",
   "execution_count": 3,
   "metadata": {},
   "outputs": [
    {
     "data": {
      "image/png": "[encoded data removed]",
      "text/plain": [
       "<Figure size 864x432 with 1 Axes>"
      ]
     },
     "metadata": {
      "needs_background": "light"
     },
     "output_type": "display_data"
    }
   ],
   "source": [
    "X, y = make_circles(300, factor=0.4, noise=0.15, random_state=0)\n",
    "\n",
    "plt.figure(figsize=(12, 6))\n",
    "plt.plot(X[y.ravel()==0, 0], X[y.ravel()==0, 1], \"ro\")\n",
    "plt.plot(X[y.ravel()==1, 0], X[y.ravel()==1, 1], \"yo\")\n",
    "plt.title(\"Data Distribution\", fontsize=16)\n",
    "plt.xlabel(\"$x_1$\", fontsize=14)\n",
    "plt.ylabel(\"$x_2$\", fontsize=14)\n",
    "#plt.xticks(())\n",
    "#plt.yticks(())\n",
    "plt.show()"
   ]
  },
  {
   "cell_type": "markdown",
   "metadata": {},
   "source": [
    "## Split Data Into Training and Test Sets"
   ]
  },
  {
   "cell_type": "code",
   "execution_count": 4,
   "metadata": {},
   "outputs": [],
   "source": [
    "X_train, X_test, y_train, y_test = train_test_split(X, y, test_size=0.20, random_state=42)"
   ]
  },
  {
   "cell_type": "markdown",
   "metadata": {},
   "source": [
    "## Standardize the Data\n",
    "\n",
    "It is useful to standardize the data before applying Gradient Descent based approaches.\n",
    "\n",
    "Also note that Multi-layer Perceptron is sensitive to feature scaling. So it is highly recommended to scale the data. For example, scale each attribute on the input vector X to [0, 1] or [-1, +1], or standardize it to have mean 0 and variance 1. Note that we must apply the same scaling to the test set for meaningful results."
   ]
  },
  {
   "cell_type": "code",
   "execution_count": 5,
   "metadata": {},
   "outputs": [],
   "source": [
    "scaler = StandardScaler()  \n",
    "\n",
    "# fit only on the training data\n",
    "scaler.fit(X_train)  \n",
    "X_train = scaler.transform(X_train)  \n",
    "\n",
    "# apply same transformation to test data\n",
    "X_test = scaler.transform(X_test)  "
   ]
  },
  {
   "cell_type": "markdown",
   "metadata": {},
   "source": [
    "## Logistic Regression"
   ]
  },
  {
   "cell_type": "code",
   "execution_count": 6,
   "metadata": {},
   "outputs": [
    {
     "name": "stdout",
     "output_type": "stream",
     "text": [
      "Best Score (accuracy): 0.608333\n",
      "Optimal Hyperparameter Values:  {'C': 1, 'max_iter': 500, 'solver': 'liblinear', 'tol': 0.001}\n",
      "\n",
      "\n",
      "CPU times: user 546 ms, sys: 3.07 ms, total: 549 ms\n",
      "Wall time: 547 ms\n"
     ]
    },
    {
     "name": "stderr",
     "output_type": "stream",
     "text": [
      "/Users/hasan/anaconda3/lib/python3.7/site-packages/sklearn/model_selection/_search.py:813: DeprecationWarning: The default of the `iid` parameter will change from True to False in version 0.22 and will be removed in 0.24. This will change numeric results when test-set sizes are unequal.\n",
      "  DeprecationWarning)\n"
     ]
    }
   ],
   "source": [
    "%%time\n",
    "param_grid = {'solver': ['liblinear', 'newton-cg', 'lbfgs', 'sag', 'saga'], \n",
    "              'tol': [1e-3, 1e-4], 'max_iter':[500, 1000],'C': [1, 10, 50]}\n",
    "\n",
    "lg_reg = LogisticRegression()\n",
    "\n",
    "lg_reg_cv = GridSearchCV(lg_reg, param_grid, scoring='accuracy', cv=5)\n",
    "lg_reg_cv.fit(X_train, y_train)\n",
    "\n",
    "params_optimal = lg_reg_cv.best_params_\n",
    "\n",
    "print(\"Best Score (accuracy): %f\" % lg_reg_cv.best_score_)\n",
    "print(\"Optimal Hyperparameter Values: \", params_optimal)\n",
    "print(\"\\n\")"
   ]
  },
  {
   "cell_type": "code",
   "execution_count": 7,
   "metadata": {},
   "outputs": [
    {
     "name": "stdout",
     "output_type": "stream",
     "text": [
      "No. of Iterations: [2]\n",
      "\n",
      "Weight Intercept: [0.11535974]\n",
      "Weight Coefficients: [[-0.10058453 -0.08704143]]\n",
      "\n",
      "Training Accuracy:  0.6791666666666667\n"
     ]
    }
   ],
   "source": [
    "lg_reg_clf = LogisticRegression(**params_optimal)\n",
    "\n",
    "lg_reg_clf.fit(X_train, y_train)\n",
    "\n",
    "print(\"No. of Iterations:\", lg_reg_clf.n_iter_ )\n",
    "print(\"\\nWeight Intercept:\", lg_reg_clf.intercept_ )\n",
    "print(\"Weight Coefficients:\", lg_reg_clf.coef_ )\n",
    "\n",
    "\n",
    "y_train_predicted = lg_reg_clf.predict(X_train)\n",
    "#print(y_test_predict)\n",
    "\n",
    "train_accuracy_logreg = np.mean(y_train_predicted == y_train)\n",
    "print(\"\\nTraining Accuracy: \", train_accuracy_logreg)"
   ]
  },
  {
   "cell_type": "markdown",
   "metadata": {},
   "source": [
    "## Logistic Regression: Evaluation on Test Data"
   ]
  },
  {
   "cell_type": "code",
   "execution_count": 8,
   "metadata": {},
   "outputs": [
    {
     "name": "stdout",
     "output_type": "stream",
     "text": [
      "\n",
      "Test Accuracy:  0.5833333333333334\n",
      "\n",
      "Test Confusion Matrix:\n",
      "[[12 25]\n",
      " [ 0 23]]\n",
      "\n",
      "Test Precision = 0.479167\n",
      "Test Recall = 1.000000\n",
      "Test F1 Score = 0.647887\n",
      "\n",
      "Classification Report:\n",
      "              precision    recall  f1-score   support\n",
      "\n",
      "           0       1.00      0.32      0.49        37\n",
      "           1       0.48      1.00      0.65        23\n",
      "\n",
      "    accuracy                           0.58        60\n",
      "   macro avg       0.74      0.66      0.57        60\n",
      "weighted avg       0.80      0.58      0.55        60\n",
      "\n"
     ]
    }
   ],
   "source": [
    "y_test_predicted = lg_reg_clf.predict(X_test)\n",
    "\n",
    "test_accuracy_logreg = np.mean(y_test_predicted == y_test)\n",
    "print(\"\\nTest Accuracy: \", test_accuracy_logreg)\n",
    "\n",
    "print(\"\\nTest Confusion Matrix:\")\n",
    "print(confusion_matrix(y_test, y_test_predicted))\n",
    "\n",
    "precision_test = precision_score(y_test, y_test_predicted) \n",
    "print(\"\\nTest Precision = %f\" % precision_test)\n",
    "\n",
    "recall_test = recall_score(y_test, y_test_predicted)\n",
    "print(\"Test Recall = %f\" % recall_test)\n",
    "\n",
    "f1_test = f1_score(y_test, y_test_predicted)\n",
    "print(\"Test F1 Score = %f\" % f1_test)\n",
    "\n",
    "print(\"\\nClassification Report:\")\n",
    "print(classification_report(y_test, y_test_predicted))"
   ]
  },
  {
   "cell_type": "markdown",
   "metadata": {},
   "source": [
    "## Perceptron\n",
    "\n",
    "The relevant hyperparameters for the sklearn Perceptron model are.\n",
    "\n",
    "- penalty : None, ‘l2’ or ‘l1’ or ‘elasticnet’\n",
    "\n",
    "        The penalty (aka regularization term) to be used. Defaults to None.\n",
    "\n",
    "- alpha : float\n",
    "\n",
    "        Constant that multiplies the regularization term if regularization is used. Defaults to 0.0001\n",
    "\n",
    "- tol : The stopping criterion. Defaults to 1e-3.\n",
    "\n",
    "- max_iter : The maximum number of passes over the training data (aka epochs). \n",
    "\n",
    "\n",
    "We can vary these two hyperparameter (use grid search). "
   ]
  },
  {
   "cell_type": "code",
   "execution_count": 9,
   "metadata": {},
   "outputs": [
    {
     "name": "stdout",
     "output_type": "stream",
     "text": [
      "Best Score (accuracy): 0.537500\n",
      "Optimal Hyperparameter Values:  {'alpha': 0.1, 'max_iter': 500, 'penalty': 'l2', 'tol': 0.001}\n",
      "\n",
      "\n",
      "CPU times: user 644 ms, sys: 4.16 ms, total: 648 ms\n",
      "Wall time: 647 ms\n"
     ]
    },
    {
     "name": "stderr",
     "output_type": "stream",
     "text": [
      "/Users/hasan/anaconda3/lib/python3.7/site-packages/sklearn/model_selection/_search.py:813: DeprecationWarning: The default of the `iid` parameter will change from True to False in version 0.22 and will be removed in 0.24. This will change numeric results when test-set sizes are unequal.\n",
      "  DeprecationWarning)\n"
     ]
    }
   ],
   "source": [
    "%%time\n",
    "param_grid = {'tol': [1e-3, 1e-4, 1e-5, 1e-6], 'max_iter':[500, 1000, 5000], \n",
    "              'penalty':['l2', 'l1', 'none'], 'alpha': [0.01, 0.1, 0.5]}\n",
    "\n",
    "clf_perceptron = Perceptron()\n",
    "\n",
    "clf_perceptron_cv = GridSearchCV(clf_perceptron, param_grid, scoring='accuracy', cv=5)\n",
    "clf_perceptron_cv.fit(X_train, y_train)\n",
    "\n",
    "params_optimal_perceptron = clf_perceptron_cv.best_params_\n",
    "\n",
    "print(\"Best Score (accuracy): %f\" % clf_perceptron_cv.best_score_)\n",
    "print(\"Optimal Hyperparameter Values: \", params_optimal_perceptron)\n",
    "print(\"\\n\")"
   ]
  },
  {
   "cell_type": "code",
   "execution_count": 10,
   "metadata": {},
   "outputs": [
    {
     "name": "stdout",
     "output_type": "stream",
     "text": [
      "No. of Iterations: 7\n",
      "\n",
      "Weight Intercept: [2.]\n",
      "Weight Coefficients: [[ 0.99888353 -1.3201785 ]]\n",
      "\n",
      "Training Accuracy:  0.6541666666666667\n"
     ]
    }
   ],
   "source": [
    "perceptron_clf = Perceptron(tol=1e-6, max_iter=1000)\n",
    "#perceptron_clf = Perceptron(**params_optimal_perceptron)\n",
    "\n",
    "perceptron_clf.fit(X_train, y_train)\n",
    "\n",
    "print(\"No. of Iterations:\", perceptron_clf.n_iter_ )\n",
    "print(\"\\nWeight Intercept:\", perceptron_clf.intercept_ )\n",
    "print(\"Weight Coefficients:\", perceptron_clf.coef_ )\n",
    "\n",
    "\n",
    "y_train_predicted = perceptron_clf.predict(X_train)\n",
    "#print(y_test_predict)\n",
    "\n",
    "train_accuracy_perceptron = np.mean(y_train_predicted == y_train)\n",
    "print(\"\\nTraining Accuracy: \", train_accuracy_perceptron)"
   ]
  },
  {
   "cell_type": "markdown",
   "metadata": {},
   "source": [
    "## Perceptron: Evaluation on Test Data"
   ]
  },
  {
   "cell_type": "code",
   "execution_count": 11,
   "metadata": {},
   "outputs": [
    {
     "name": "stdout",
     "output_type": "stream",
     "text": [
      "\n",
      "Test Accuracy:  0.5\n",
      "\n",
      "Test Confusion Matrix:\n",
      "[[ 7 30]\n",
      " [ 0 23]]\n",
      "\n",
      "Test Precision = 0.433962\n",
      "Test Recall = 1.000000\n",
      "Test F1 Score = 0.605263\n",
      "\n",
      "Classification Report:\n",
      "              precision    recall  f1-score   support\n",
      "\n",
      "           0       1.00      0.19      0.32        37\n",
      "           1       0.43      1.00      0.61        23\n",
      "\n",
      "    accuracy                           0.50        60\n",
      "   macro avg       0.72      0.59      0.46        60\n",
      "weighted avg       0.78      0.50      0.43        60\n",
      "\n"
     ]
    }
   ],
   "source": [
    "y_test_predicted = perceptron_clf.predict(X_test)\n",
    "\n",
    "test_accuracy_perceptron = np.mean(y_test_predicted == y_test)\n",
    "print(\"\\nTest Accuracy: \", test_accuracy_perceptron)\n",
    "\n",
    "print(\"\\nTest Confusion Matrix:\")\n",
    "print(confusion_matrix(y_test, y_test_predicted))\n",
    "\n",
    "precision_test = precision_score(y_test, y_test_predicted) \n",
    "print(\"\\nTest Precision = %f\" % precision_test)\n",
    "\n",
    "recall_test = recall_score(y_test, y_test_predicted)\n",
    "print(\"Test Recall = %f\" % recall_test)\n",
    "\n",
    "f1_test = f1_score(y_test, y_test_predicted)\n",
    "print(\"Test F1 Score = %f\" % f1_test)\n",
    "\n",
    "print(\"\\nClassification Report:\")\n",
    "print(classification_report(y_test, y_test_predicted))"
   ]
  },
  {
   "cell_type": "markdown",
   "metadata": {},
   "source": [
    "## Decision Boundary I: Equation Based"
   ]
  },
  {
   "cell_type": "code",
   "execution_count": 12,
   "metadata": {},
   "outputs": [
    {
     "data": {
      "image/png": "[encoded data removed]",
      "text/plain": [
       "<Figure size 1296x432 with 2 Axes>"
      ]
     },
     "metadata": {},
     "output_type": "display_data"
    }
   ],
   "source": [
    "plt.figure(figsize=(18,6))\n",
    "\n",
    "plt.subplot(121)\n",
    "decision_boundary_equation_based(lg_reg_clf, X)\n",
    "plt.plot(X[y.ravel()==0, 0], X[y.ravel()==0, 1], \"ro\")\n",
    "plt.plot(X[y.ravel()==1, 0], X[y.ravel()==1, 1], \"yo\")\n",
    "plt.xlabel(\"$x_1$\", fontsize=14)\n",
    "plt.ylabel(\"$x_2$\", fontsize=14)\n",
    "plt.title(\"Decision Boundary: Logistic Regression\\n Train Accuracy: %f \\n Test Accuracy: %f\"% \n",
    "          (train_accuracy_logreg, test_accuracy_logreg) , fontsize=16)\n",
    "plt.axis([-1.5, 1.5, -1.5, 1.5])\n",
    "plt.xticks(())\n",
    "plt.yticks(())\n",
    "\n",
    "\n",
    "plt.subplot(122)\n",
    "decision_boundary_equation_based(perceptron_clf, X)\n",
    "plt.plot(X[y.ravel()==0, 0], X[y.ravel()==0, 1], \"ro\")\n",
    "plt.plot(X[y.ravel()==1, 0], X[y.ravel()==1, 1], \"yo\")\n",
    "plt.xlabel(\"Petal length\", fontsize=14)\n",
    "plt.ylabel(\"Petal width\", fontsize=14)\n",
    "plt.title(\"Decision Boundary: Perceptron\\n Train Accuracy: %f \\n Test Accuracy: %f\"% \n",
    "          (train_accuracy_perceptron, test_accuracy_perceptron) , fontsize=16)\n",
    "plt.axis([-1.5, 1.5, -1.5, 1.5])\n",
    "plt.xticks(())\n",
    "plt.yticks(())\n",
    "\n",
    "plt.show()"
   ]
  },
  {
   "cell_type": "markdown",
   "metadata": {},
   "source": [
    "## Decision Boundary II: Class Probability Based"
   ]
  },
  {
   "cell_type": "code",
   "execution_count": 13,
   "metadata": {},
   "outputs": [
    {
     "data": {
      "image/png": "[encoded data removed]",
      "text/plain": [
       "<Figure size 1296x432 with 2 Axes>"
      ]
     },
     "metadata": {},
     "output_type": "display_data"
    }
   ],
   "source": [
    "plt.figure(figsize=(18,6))\n",
    "\n",
    "plt.subplot(121)\n",
    "decision_boundary_class_colored(lg_reg_clf, X, plotDistanceFromHyperplane=False)\n",
    "plt.plot(X[y.ravel()==0, 0], X[y.ravel()==0, 1], \"ro\")\n",
    "plt.plot(X[y.ravel()==1, 0], X[y.ravel()==1, 1], \"yo\")\n",
    "plt.xlabel(\"$x_1$\", fontsize=14)\n",
    "plt.ylabel(\"$x_2$\", fontsize=14)\n",
    "plt.title(\"Decision Boundary: Logistic Regression\\n Train Accuracy: %f \\n Test Accuracy: %f\"% \n",
    "          (train_accuracy_logreg, test_accuracy_logreg) , fontsize=16)\n",
    "plt.axis([-1.5, 1.5, -1.5, 1.5])\n",
    "plt.xticks(())\n",
    "plt.yticks(())\n",
    "\n",
    "\n",
    "plt.subplot(122)\n",
    "decision_boundary_class_colored(perceptron_clf, X, plotDistanceFromHyperplane=False)\n",
    "plt.plot(X[y.ravel()==0, 0], X[y.ravel()==0, 1], \"ro\")\n",
    "plt.plot(X[y.ravel()==1, 0], X[y.ravel()==1, 1], \"yo\")\n",
    "plt.xlabel(\"$x_1$\", fontsize=14)\n",
    "plt.ylabel(\"$x_2$\", fontsize=14)\n",
    "plt.title(\"Decision Boundary: Perceptron\\n Train Accuracy: %f \\n Test Accuracy: %f\"% \n",
    "          (train_accuracy_perceptron, test_accuracy_perceptron) , fontsize=16)\n",
    "plt.axis([-1.5, 1.5, -1.5, 1.5])\n",
    "plt.xticks(())\n",
    "plt.yticks(())\n",
    "\n",
    "plt.show()"
   ]
  },
  {
   "cell_type": "markdown",
   "metadata": {},
   "source": [
    "## Observation\n",
    "\n",
    "We see that both the Perceptron and Logistic Regression mpodels are unable to classify non-linear data. Because both are **linear models**.\n",
    "\n",
    "To create a complex decision boundary, we can use non-linear models, e.g., Multi-Layer Perceptron (MLP). \n",
    "\n",
    "Below we train a MLP which is a non-linear model.\n",
    "\n",
    "However, we should note that a MLP is **not composed of multiple Perceptrons**. The discontinuous non-linearity of the Perceptron step-function makes it unsuitable for gradient descent based algorithms. \n",
    "\n",
    "Instead MLP is designed using Logistic Regressors. Intially the choice of the activation function was logistic sigmoid. Later other continuous non-linear activation functions were introduced for better performance."
   ]
  },
  {
   "cell_type": "markdown",
   "metadata": {},
   "source": [
    "## Multi-Layer Perceptron (MLP)\n",
    "\n",
    "\n",
    "Scikit-Learn's MLPClassifier class uses the **Backpropagation** algorithm to implement the Multi-Layer Perceptron (MLP) model.\n",
    "\n",
    "More precisely, it trains using some form of gradient descent and the gradients are calculated using Backpropagation. For classification, it minimizes the Cross-Entropy loss function, giving a vector of probability estimates per sample.\n",
    "\n",
    "MLP trains on two arrays: \n",
    "- Array X of size (n_samples, n_features), which holds the training samples represented as floating point feature vectors.\n",
    "- Array y of size (n_samples,), which holds the target values (class labels) for the training samples.\n",
    "\n",
    "MLPClassifier supports multi-class classification by applying **Softmax** as the output function.\n",
    "\n",
    "Further, the model supports multi-label classification in which a sample can belong to more than one class. For each class, the raw output passes through the logistic function. Values larger or equal to 0.5 are rounded to 1, otherwise to 0. \n",
    "\n",
    "### Limitations\n",
    "\n",
    "Although MLP is a great tool for classifying non-linear data, it has some limitations.\n",
    "\n",
    "- MLP with hidden layers have a non-convex loss function where there exists more than one local minimum. Therefore, different random weight initializations can lead to different validation accuracy.\n",
    "- MLP requires tuning a number of hyperparameters such as the number of hidden neurons, layers, and iterations.\n",
    "- MLP is sensitive to feature scaling.\n",
    "\n",
    "\n",
    "### Regularization\n",
    "\n",
    "Both MLPRegressor and MLPClassifier use the parameter alpha for regularization (L2 regularization) term which helps in avoiding overfitting by penalizing weights with large magnitudes. "
   ]
  },
  {
   "cell_type": "markdown",
   "metadata": {},
   "source": [
    "## Algorithms\n",
    "\n",
    "The gradient descent process in MLP is optimized by following three algorithms: \n",
    "- Stochastic Gradient Descent (SGD)\n",
    "- L-BFGS\n",
    "- Adaptive moment estimation (Adam)\n",
    "\n",
    "We briefly discuss these three algorithms for optimizing gradient descent in MLP.\n",
    "\n",
    "- The SGD uses a random a data point at a time to update the weights of the neurons. Obviously this makes the algorithm much faster since it has very little data to manipulate at every iteration. It also makes it possible to train on huge training sets, since only one instance needs to be in memory at each iteration. Also, due to its inherent randomness SGD is useful to escape from local minima in the ML non-convex loss function. The downside is that SGD can never settle at the minimum. One solution to this dilemma is to gradually reduce the learning rate. The steps start out large (which helps make quick progress and escape local minima), then get smaller and smaller, allowing the algorithm to settle at the global minimum or near-global minimum. This process is called simulated annealing. The function that determines the learning rate at each iteration is called the learning schedule. With SGD we should use an adaptive learning rate.\n",
    "\n",
    "\n",
    "- L-BFGS is a quasi-Newton method that uses the second-order derivative (Hessian) of the loss function to find the minimum. The Hessian represents the curvature (direction at which the loss is decreasing), thus, we don't need the learning rate. The L-BFGS approximates the Hessian matrix and the inverse of the Hessian matrix to perform parameter updates. That Hessian requires you to compute gradients of the loss function with respect to every combination of weights. For modern day architectures, the number of parameters may be in billions, and calculating a billion squared gradients makes it computationally intractable for us to use higher order optimization methods. Also, it needs the entire dataset to compute the Hessian matrix, thus cannot be used for online learning (unlike SGD). It is only useful when we have relatively small dataset.\n",
    "\n",
    "\n",
    "- Adam is similar to SGD in a sense that it is a stochastic optimizer, but (unlike SGD that requires an explicit learning schedule for adapting the learning rate) it can automatically adjust the amount to update parameters based on adaptive estimates of lower-order moments. Like the SGD, Adam, training supports online and mini-batch learning.\n",
    "\n",
    "\n",
    "Summary:\n",
    "- Adam works pretty well on relatively **large datasets (with thousands of training samples or more)** in terms of both training time and validation score. Also, unlike SGD, Adam updates the learning rate autometically.\n",
    "- For small datasets, however, L-BFGS can converge faster and perform better."
   ]
  },
  {
   "cell_type": "markdown",
   "metadata": {},
   "source": [
    "## Faster Optimizers\n",
    "\n",
    "Training a very large deep neural network can be painfully slow. One common technique to expedite the training time is to use a faster optimizer than the regular Gradient Descent optimizer. \n",
    "\n",
    "The most popular algorithms are: \n",
    "- Momentum optimization\n",
    "- Nesterov Accelerated Gradient\n",
    "- AdaGrad\n",
    "- RMSProp\n",
    "- Adam and Nadam optimization\n",
    "\n",
    "\n",
    "#### Why do we need faster optimizers?\n",
    "\n",
    "The SGD algorithm tries to find the global minimum by adapting the weights. The loss function typically has a highly nonlinear dependence on the weights and bias parameters. Due to the non-convex nature of the loss function, in practice, multiple local minima may exist. Hence, there will be many points in the weight space at which the gradient vanishes (or is numerically very small). \n",
    "\n",
    "Example of such places are: **local minimum, saddle point and plateau**. At these area, the gradient on every dimension (direction) \"vanishes\" and the weight update becomes extremely slow. At the worst case, the model stops training and returns the \"optimized\" weights. \n",
    "\n",
    "<img src=\"https://cse.unl.edu/~hasan/Pics/LocalMinimum.png\" width=600 height=300>\n",
    " \n",
    "**Local Minima**: The stochastic nature of SGD helps to escape from local mimimum. However, the likelihood of escaping from a local minimum depends on how \"deep\" the valley is. \n",
    "\n",
    "**Saddle Point**: Saddle point is a place where not all gradients of each dimension is towards the same direction. At the saddle point region some points around it have higher value and the others have lower. Intuitively, this means that a saddle point acts as both a local minima for some neighbors and a local maxima for the others. For SGD to rapidly avoid saddle points, it needs to have sufficiently high stochastic variance along all directions. SGD can sometimes break out of simple saddle points. But sometimes the saddle regions can be fairly complex. \n",
    "\n",
    "<img src=\"https://cse.unl.edu/~hasan/Pics/SaddlePoint.png\" width=800 height=400>\n",
    "\n",
    "\n",
    " \n",
    "**Plateau**: At the plateau, the gradient at each dimension is still near 0 and the model updates slowly as well. The plateau area can be viewed as case when large variation exist between many training data and therefor the loss function's output value is large. If the plateau area is large and really plain, such area poses more threat to the model training. \n",
    "\n",
    "<img src=\"https://cse.unl.edu/~hasan/Pics/Plateau.png\" width=400 height=200>\n",
    " \n",
    "\n",
    "The local minima, saddle points and plateau areas stall the training. There are other types of regions that can slow down the training significanty (decribed below). The SGD algorithm itself is unable to guarantee faster convergence. Thus, to expedite the training time for converging to the near-global optimum we need to use faster optimizers. \n",
    "\n",
    "The sklearn MLP class uses the following optimizers: Momentum optimization, Nesterov Accelerated Gradient and Adam.\n",
    "\n",
    "We describe these optimizers briefly.\n",
    "\n",
    "### Momentum Optimization:\n",
    "\n",
    "To understand momentum optimization let's consider Gradient Descent (GD) first. The GD is like a man walking down a hill. He follows the steepest path downwards; his progress is slow, but steady. Momentum is a heavy ball rolling down the same hill. The added inertia acts both as a smoother and an accelerator, dampening oscillations and causing us to barrel through narrow valleys, small humps and local minima. Thus, momentum based movement is faster.\n",
    "\n",
    "Momentum optimizer is particulary useful for escaping a region that could potentially increase the training time.\n",
    "\n",
    "Previously we discussed how the existence of local minima, saddle point and plateau can stall our training in GD (or SGD).\n",
    "\n",
    "There is yet another region that can can slow down training to an extent that we might think that search has converged to a sub-optimal minima. This region is known as **pathological curvature**. Momentum optimizer helps to pass through the pathological curvature faster.\n",
    "\n",
    "The pathological curvature is a **ravine-like region** in the following picture. To get down to the minima we have to go through the ravine. \n",
    "\n",
    "<img src=\"https://cse.unl.edu/~hasan/Pics/PathologicalCurvature.png\" width=600 height=300>\n",
    "\n",
    "Notice in the following picture that in the ravine, the surface at the ridge curves much more steeply in the direction of w1. Thus, Gradient Descent is bouncing along the ridges of the ravine, and moving a lot slower towards the minima. \n",
    "\n",
    "Consider a point A, on the surface of the ridge. We see, the gradient at the point can be decomposed into two components, one along direction w1 and other along w2. The component of the gradient in direction of w1 is much larger because of the curvature of the loss function, and hence the direction of the gradient is much more towards w1, and not towards w2 (along which the minima lies).\n",
    "\n",
    "\n",
    "<img src=\"https://cse.unl.edu/~hasan/Pics/PathologicalCurvaturePath.png\" width=600 height=300>\n",
    "\n",
    "Let's see what momentum optimization is and how it helps us to go faster through the ravine.\n",
    "\n",
    "The momentum optimization does not only use the gradient of the current step to guide the search. It also accumulates the gradient of the past steps to determine the direction to go. \n",
    "\n",
    "Momentum optimization subtracts the local gradient from the momentum vector $\\vec{m}$ (multiplied by the learning rate $\\eta$), and it updates the weights by adding this momentum vector. In other words, the gradient is used for acceleration, not for speed. To simulate some sort of friction mechanism and prevent the momentum from growing too large, the algorithm introduces a new hyperparameter $\\beta$, called the momentum, which must be set between 0 (high friction) and 1 (no friction). A typical momentum value is 0.9.\n",
    "\n",
    "\n",
    "The equations of gradient descent are revised as follows.\n",
    "\n",
    "1. $\\vec{m} \\leftarrow \\beta \\vec{m} - \\eta \\nabla_w J(\\vec{w})$\n",
    "2. $\\vec{w} \\leftarrow \\vec{w} + \\vec{m}$\n",
    "\n",
    "\n",
    "Observe that the previous gradients are also included in subsequent updates, but the weightage of the most recent previous gradients is more than the less recent ones. Here we are taking an **exponential average** of the gradient steps.\n",
    "\n",
    "\n",
    "\n",
    "- How does the momentum optimization help us to go faster through the ravine?\n",
    "\n",
    "Consider the following picture. Observe that most of the gradient updates are in a zig-zag direction. Also notice that each gradient update has been resolved into components along w1 and w2 directions. If we will individually sum these vectors up, their components along the direction w1 cancel out, while the component along the w2 direction is reinforced.\n",
    "\n",
    "For an update, this adds to the component along w2, while zeroing out the component in w1 direction. This helps us move more quickly towards the minima. For this reason, momentum is also referred to as a technique which dampens oscillations in our search.\n",
    "\n",
    "\n",
    "<img src=\"https://cse.unl.edu/~hasan/Pics/PathologicalCurvatureMomentum.png\" width=600 height=300>\n",
    "\n",
    "\n",
    "Momentum also builds speed, and quickens convergence. But we need to use simulated annealing in case we overshoot the minima.\n",
    "\n",
    "\n",
    "\n",
    "\n",
    "### Nesterov Accelerated Gradient\n",
    "\n",
    "One small variant to momentum optimization is proposed by Yurii Nesterov in 1983. It is almost always faster than vanilla momentum optimization. The Nesterov Accelerated Gradient (NAG) method, also known as Nesterov momentum optimization, measures the gradient of the cost function not at the local position $\\vec{w}$ but slightly ahead in the direction of the momentum, at $\\vec{w} + \\beta \\vec{m}$\n",
    "\n",
    "\n",
    "1. $\\vec{m} \\leftarrow \\beta \\vec{m} - \\eta \\nabla_w J(\\vec{w} + \\beta \\vec{m})$\n",
    "2. $\\vec{w} \\leftarrow \\vec{w} + \\vec{m}$\n",
    "\n",
    "\n",
    "This small tweak works because in general the momentum vector will be pointing in the right direction (i.e., toward the optimum), so it will be slightly more accurate to use the gradient measured a bit farther in that direction rather than the gradient at the original position.\n",
    "\n",
    "Consider the following figure. The weights $\\vec{w}$ are denoted by $\\vec{\\theta}$. We can see $\\nabla_1$ represents the gradient of the cost function measured at the starting point $\\theta$, and $\\nabla_2$ represents the gradient at the point located at $\\vec{\\theta} + \\beta \\vec{m}$.\n",
    "\n",
    " \n",
    "\n",
    "<img src=\"https://cse.unl.edu/~hasan/Pics/NesterovAcceleratedGradient.png\" width=600 height=300>\n",
    "\n",
    "Observe that the Nesterov update ends up slightly closer to the optimum. After a while, these small improvements add up and NAG ends up being significantly faster than regular momentum optimization.\n",
    "\n",
    "Moreover, note that when the momentum pushes the weights across a valley, $\\nabla_1$ continues to push farther across the valley, while $\\nabla_2$ pushes back toward the bottom of the valley. This helps reduce oscillations and thus NAG converges faster.\n",
    "\n",
    "### Adam\n",
    "\n",
    "\n",
    "Adam combines the ideas of momentum optimization and another optimizer named RMSProp.\n",
    "\n",
    "Just like momentum optimization, it keeps track of an exponentially decaying average of past gradients; and just like RMSProp, it keeps track of an exponentially decaying average of past squared gradients.\n",
    "\n",
    "Following are the update equations.\n",
    "\n",
    "- Eq. 1: Compute the exponential average of the gradient for each parameters.\n",
    "- Eq. 2: Compute the exponential average of the squares of the gradient for each parameters.\n",
    "- Eq. 3: Compute the average of the gradient.\n",
    "- Eq. 4: Compute the average of square of gradients.\n",
    "- Eq. 5: To decide our learning step, we multiply our learning rate by average of the gradient (Eq. 3) and divide it by the root mean square of the exponential average of square of gradients (Eq. 4). And then we add the update.  \n",
    "\n",
    "\n",
    "\n",
    "1. $\\vec{m} \\leftarrow \\beta_1 \\vec{m} + (1 - \\beta_1) \\nabla_w J(\\vec{w})$\n",
    "2. $\\vec{s} \\leftarrow \\beta_2\\vec{s} + (1 - \\beta_2) \\nabla_w J(\\vec{w})\\otimes \\nabla_w J(\\vec{w}) $\n",
    "3. $\\hat{\\vec{m}} \\leftarrow \\frac{\\vec{m}}{1 - \\beta_1^T}$\n",
    "4. $\\hat{\\vec{s}} \\leftarrow \\frac{\\vec{s}}{1 - \\beta_2^T}$\n",
    "5. $\\vec{w} \\leftarrow \\vec{w} - \\eta\\hat{\\vec{m}} \\oslash \\sqrt{\\hat{\\vec{s}} + \\epsilon}$\n",
    "\n",
    "\n",
    "Since Adam is an adaptive learning rate algorithm, it requires less tuning of the learning rate hyperparameter $\\eta$. We can often use the default value $\\eta = 0.001$, making Adam even easier to use than Gradient Descent.\n",
    "\n",
    "\n",
    "#### Hyperparameter Values:\n",
    "The momentum decay hyperparameter $\\beta_1$ is typically initialized to 0.9, while the scaling decay hyperparameter $\\beta_2$ is often initialized to 0.999. The smoothing term $\\epsilon$ is usually initialized to a tiny number such as $10^{-7}$. \n"
   ]
  },
  {
   "cell_type": "markdown",
   "metadata": {},
   "source": [
    "## Model Selection via Hyperparameter Tuning\n",
    "\n",
    "\n",
    "\n",
    "We provide some key hyperparameters for tuning. Please see the link below for more hyperparameters.\n",
    "\n",
    "- hidden_layer_sizes: it's a tuple. Example: if we want 2 hidden layers with 10 and 2 neurons respectively, then we should set it as (10, 2).\n",
    "- activation : choices are 'identity', ‘logistic’, ‘tanh’, ‘relu’. The default is ‘relu’.\n",
    "- solver : choices are ‘lbfgs’, ‘sgd’, ‘adam’. The default is 'adam' which is good for very large dataset. 'lbfgs' can converge faster and perform better on small dataset. \n",
    "- alpha : L2 penalty (regularization term) parameter.\n",
    "- learning_rate : Choices are ‘constant’, ‘invscaling’, ‘adaptive’. The default is ‘constant’.\n",
    "        -- ‘invscaling’ gradually decreases the learning rate at each time step ‘t’ using an inverse scaling exponent of ‘power_t’. effective_learning_rate = learning_rate_init / pow(t, power_t)\n",
    "        -- ‘adaptive’ keeps the learning rate constant to ‘learning_rate_init’ as long as training loss keeps decreasing. Each time two consecutive epochs fail to decrease training loss by at least tol, or fail to increase validation score by at least tol if ‘early_stopping’ is on, the current learning rate is divided by 5.\n",
    "        \n",
    "- learning_rate_init : The initial learning rate used. It controls the step-size in updating the weights. Only used when solver=’sgd’ or ‘adam’.\n",
    "        \n",
    "- max_iter : Maximum number of iterations. The solver iterates until convergence (determined by ‘tol’) or this number of iterations. For stochastic solvers (‘sgd’, ‘adam’), note that this determines the number of epochs (how many times each data point will be used), not the number of gradient steps.\n",
    "\n",
    "- tol : Tolerance for the optimization. \n",
    "\n",
    "- verbose : bool, optional, default False. Whether to print progress messages to stdout.\n",
    "\n",
    "\n",
    "### Hyperparameters for Faster Optimizers\n",
    "\n",
    "\n",
    "#### Optimizer: SGD\n",
    "\n",
    "- momentum : float, default 0.9\n",
    "\n",
    "        Momentum for gradient descent update. Should be between 0 and 1. Only used when solver=’sgd’.\n",
    "\n",
    "- nesterovs_momentum : boolean, default True\n",
    "\n",
    "        Whether to use Nesterov’s momentum. Only used when solver=’sgd’ and momentum > 0.\n",
    "        \n",
    "  \n",
    "#### Optimizer: Adam\n",
    "- beta_1 : float, optional, default 0.9\n",
    "\n",
    "        Exponential decay rate for estimates of first moment vector in adam, should be in [0, 1). Only used when solver=’adam’\n",
    "\n",
    "- beta_2 : float, optional, default 0.999\n",
    "\n",
    "        Exponential decay rate for estimates of second moment vector in adam, should be in [0, 1). Only used when solver=’adam’\n",
    "\n",
    "- epsilon : float, optional, default 1e-8\n",
    "\n",
    "        Value for numerical stability in adam. Only used when solver=’adam’\n",
    "\n",
    "\n",
    "More info: https://scikit-learn.org/stable/modules/generated/sklearn.neural_network.MLPClassifier.html"
   ]
  },
  {
   "cell_type": "markdown",
   "metadata": {},
   "source": [
    "## Grid Search for Model Selection\n",
    "\n",
    "We skip the grid search part. The following code illustrates how to set the parameter values for grid search."
   ]
  },
  {
   "cell_type": "code",
   "execution_count": 14,
   "metadata": {},
   "outputs": [],
   "source": [
    "# %%time\n",
    "\n",
    "# param_grid = {'hidden_layer_sizes': [(3,), (5,), (10,)], 'solver':['sgd', 'lbfgs'], \n",
    "#               'alpha': (0.1, 0.01),'activation': ['logistic', 'relu'], 'tol': (0.001, 0.0001),\n",
    "#              'learning_rate': ['adaptive', 'constant']}\n",
    "\n",
    "# clf_mlp = MLPClassifier()\n",
    "\n",
    "# clf_mlp_cv = GridSearchCV(clf_mlp, param_grid, scoring='accuracy', cv=5, verbose=1, n_jobs=-1)\n",
    "# clf_mlp_cv.fit(X_train, y_train)\n",
    "\n",
    "\n",
    "# params_optimal_mlp = clf_mlp_cv.best_params_\n",
    "\n",
    "# print(\"Best Score (accuracy): %f\" % clf_mlp_cv.best_score_)\n",
    "# print(\"Optimal Hyperparameter Values: \", params_optimal_mlp)\n",
    "# print(\"\\n\")\n"
   ]
  },
  {
   "cell_type": "markdown",
   "metadata": {},
   "source": [
    "## MLP: Train the Model using Optimal Hyperparameters"
   ]
  },
  {
   "cell_type": "code",
   "execution_count": 15,
   "metadata": {},
   "outputs": [
    {
     "name": "stdout",
     "output_type": "stream",
     "text": [
      "CPU times: user 160 ms, sys: 10.2 ms, total: 170 ms\n",
      "Wall time: 47.6 ms\n"
     ]
    },
    {
     "data": {
      "text/plain": [
       "MLPClassifier(activation='logistic', alpha=0.01, batch_size='auto', beta_1=0.9,\n",
       "              beta_2=0.999, early_stopping=False, epsilon=1e-08,\n",
       "              hidden_layer_sizes=(3,), learning_rate='adaptive',\n",
       "              learning_rate_init=0.001, max_iter=200, momentum=0.9,\n",
       "              n_iter_no_change=10, nesterovs_momentum=True, power_t=0.5,\n",
       "              random_state=42, shuffle=True, solver='lbfgs', tol=0.0001,\n",
       "              validation_fraction=0.1, verbose=True, warm_start=False)"
      ]
     },
     "execution_count": 15,
     "metadata": {},
     "output_type": "execute_result"
    }
   ],
   "source": [
    "%%time\n",
    "mlp_clf = MLPClassifier(random_state=42, hidden_layer_sizes=(3, ), alpha=0.01, solver='lbfgs',\n",
    "                      max_iter=200, learning_rate='adaptive', activation='logistic',\n",
    "                    verbose=True)\n",
    "\n",
    "\n",
    "mlp_clf.fit(X_train, y_train)"
   ]
  },
  {
   "cell_type": "markdown",
   "metadata": {},
   "source": [
    "## MLP: Evaluation on Training Data"
   ]
  },
  {
   "cell_type": "code",
   "execution_count": 16,
   "metadata": {},
   "outputs": [
    {
     "name": "stdout",
     "output_type": "stream",
     "text": [
      "No. of Iterations: 119\n",
      "\n",
      "Training Accuracy:  0.9708333333333333\n"
     ]
    }
   ],
   "source": [
    "print(\"No. of Iterations:\", mlp_clf.n_iter_ )\n",
    "\n",
    "y_train_predicted = mlp_clf.predict(X_train)\n",
    "\n",
    "train_accuracy_mlp = np.mean(y_train_predicted == y_train)\n",
    "print(\"\\nTraining Accuracy: \", train_accuracy_mlp)"
   ]
  },
  {
   "cell_type": "markdown",
   "metadata": {},
   "source": [
    "## MLP: Evaluation on Test Data"
   ]
  },
  {
   "cell_type": "code",
   "execution_count": 17,
   "metadata": {},
   "outputs": [
    {
     "name": "stdout",
     "output_type": "stream",
     "text": [
      "\n",
      "Test Accuracy:  0.9666666666666667\n",
      "\n",
      "Test Confusion Matrix:\n",
      "[[35  2]\n",
      " [ 0 23]]\n",
      "\n",
      "Test Precision = 0.920000\n",
      "Test Recall = 1.000000\n",
      "Test F1 Score = 0.958333\n",
      "\n",
      "Classification Report:\n",
      "              precision    recall  f1-score   support\n",
      "\n",
      "           0       1.00      0.95      0.97        37\n",
      "           1       0.92      1.00      0.96        23\n",
      "\n",
      "    accuracy                           0.97        60\n",
      "   macro avg       0.96      0.97      0.97        60\n",
      "weighted avg       0.97      0.97      0.97        60\n",
      "\n"
     ]
    }
   ],
   "source": [
    "y_test_predicted = mlp_clf.predict(X_test)\n",
    "\n",
    "test_accuracy_mlp = np.mean(y_test_predicted == y_test)\n",
    "print(\"\\nTest Accuracy: \", test_accuracy_mlp)\n",
    "\n",
    "\n",
    "print(\"\\nTest Confusion Matrix:\")\n",
    "print(confusion_matrix(y_test, y_test_predicted))\n",
    "\n",
    "\n",
    "precision_test = precision_score(y_test, y_test_predicted) \n",
    "print(\"\\nTest Precision = %f\" % precision_test)\n",
    "\n",
    "recall_test = recall_score(y_test, y_test_predicted)\n",
    "print(\"Test Recall = %f\" % recall_test)\n",
    "\n",
    "\n",
    "f1_test = f1_score(y_test, y_test_predicted)\n",
    "print(\"Test F1 Score = %f\" % f1_test)\n",
    "\n",
    "\n",
    "print(\"\\nClassification Report:\")\n",
    "print(classification_report(y_test, y_test_predicted))"
   ]
  },
  {
   "cell_type": "markdown",
   "metadata": {},
   "source": [
    "## Decision Boundary: MLP vs Perceptron"
   ]
  },
  {
   "cell_type": "code",
   "execution_count": 18,
   "metadata": {},
   "outputs": [
    {
     "data": {
      "image/png": "[encoded data removed]",
      "text/plain": [
       "<Figure size 1296x432 with 2 Axes>"
      ]
     },
     "metadata": {},
     "output_type": "display_data"
    }
   ],
   "source": [
    "plt.figure(figsize=(18,6))\n",
    "\n",
    "plt.subplot(121)\n",
    "decision_boundary_class_colored(mlp_clf, X, plotDistanceFromHyperplane=False)\n",
    "plt.plot(X_train[y_train.ravel()==0, 0], X_train[y_train.ravel()==0, 1], \"ro\")\n",
    "plt.plot(X_train[y_train.ravel()==1, 0], X_train[y_train.ravel()==1, 1], \"yo\")\n",
    "plt.plot(X_test[y_test.ravel()==0, 0], X_test[y_test.ravel()==0, 1], \"ro\")\n",
    "plt.plot(X_test[y_test.ravel()==1, 0], X_test[y_test.ravel()==1, 1], \"yo\")\n",
    "plt.xlabel(\"$x_1$\", fontsize=14)\n",
    "plt.ylabel(\"$x_2$\", fontsize=14)\n",
    "plt.title(\"Decision Boundary: MLP\\n Train Accuracy: %f \\n Test Accuracy: %f\"% \n",
    "          (train_accuracy_mlp, test_accuracy_mlp) , fontsize=16)\n",
    "plt.xticks(())\n",
    "plt.yticks(())\n",
    "\n",
    "\n",
    "plt.subplot(122)\n",
    "decision_boundary_class_colored(perceptron_clf, X, plotDistanceFromHyperplane=False)\n",
    "plt.plot(X[y.ravel()==0, 0], X[y.ravel()==0, 1], \"ro\")\n",
    "plt.plot(X[y.ravel()==1, 0], X[y.ravel()==1, 1], \"yo\")\n",
    "plt.xlabel(\"$x_1$\", fontsize=14)\n",
    "plt.ylabel(\"$x_2$\", fontsize=14)\n",
    "plt.title(\"Decision Boundary: Perceptron\\n Train Accuracy: %f \\n Test Accuracy: %f\"% \n",
    "          (train_accuracy_perceptron, test_accuracy_perceptron) , fontsize=16)\n",
    "plt.xticks(())\n",
    "plt.yticks(())\n",
    "\n",
    "plt.show()"
   ]
  }
 ],
 "metadata": {
  "anaconda-cloud": {},
  "kernelspec": {
   "display_name": "Python 3",
   "language": "python",
   "name": "python3"
  },
  "language_info": {
   "codemirror_mode": {
    "name": "ipython",
    "version": 3
   },
   "file_extension": ".py",
   "mimetype": "text/x-python",
   "name": "python",
   "nbconvert_exporter": "python",
   "pygments_lexer": "ipython3",
   "version": "3.7.3"
  }
 },
 "nbformat": 4,
 "nbformat_minor": 1
}
